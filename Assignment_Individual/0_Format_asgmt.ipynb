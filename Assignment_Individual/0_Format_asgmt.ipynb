{
 "cells": [
  {
   "cell_type": "markdown",
   "metadata": {},
   "source": [
    "# **Foramt-Asgmt**\n",
    "### **Lienar/Logistic Regression with Python**\n",
    "    Dep  : E-Business\n",
    "    Code : 201823869\n",
    "    Name : seongwoo Cho\n",
    "\n",
    "<br>\n",
    "\n",
    "#### **INDEX** \n",
    "\n",
    "[**1. Linear Regression**](#1-linear-regression)\n",
    "\n",
    "&nbsp;&nbsp;&nbsp; 1-1. Exploring & Describing <br>\n",
    "&nbsp;&nbsp;&nbsp; 1-2. Data Cleaning <br>\n",
    "&nbsp;&nbsp;&nbsp; 1-3. Model Building <br>\n",
    "&nbsp;&nbsp;&nbsp; 1-4. Explanations on the model <br>\n",
    "&nbsp;&nbsp;&nbsp; 1-5. Model Evaluation <br>\n",
    "\n",
    "[**2. Logistic Regression**](#2-logistic-regression)\n",
    "\n",
    "&nbsp;&nbsp;&nbsp; 2-1. Exploring and Describing <br>\n",
    "&nbsp;&nbsp;&nbsp; 2-2. Data Cleaning <br>\n",
    "&nbsp;&nbsp;&nbsp; 2-3. Model Building <br>\n",
    "&nbsp;&nbsp;&nbsp; 2-4. Explanations on the model <br>\n",
    "&nbsp;&nbsp;&nbsp; 2-5. Model Evaluation\n",
    "\n",
    "<br>\n",
    "\n",
    "---\n",
    "\n",
    "<br>"
   ]
  },
  {
   "cell_type": "markdown",
   "metadata": {},
   "source": [
    "## **1. Linear Regression**\n",
    "The main purpose of this section is building a linear regression model for predicting 'DV:readingScore' by using the other variables.\n",
    "It includes EDA, Cleaning, Building Model, Explanations, and Model Evaluation.\n",
    "<br><br>"
   ]
  },
  {
   "cell_type": "markdown",
   "metadata": {},
   "source": [
    "### 1-1. Exploring & Describing"
   ]
  },
  {
   "cell_type": "code",
   "execution_count": 4,
   "metadata": {},
   "outputs": [],
   "source": [
    "import pandas as pd"
   ]
  },
  {
   "cell_type": "markdown",
   "metadata": {},
   "source": [
    "<br>"
   ]
  },
  {
   "cell_type": "markdown",
   "metadata": {},
   "source": [
    "### 1-2. Data Cleaning"
   ]
  },
  {
   "cell_type": "markdown",
   "metadata": {},
   "source": [
    "<br>"
   ]
  },
  {
   "cell_type": "markdown",
   "metadata": {},
   "source": [
    "### 1-3. Model Building"
   ]
  },
  {
   "cell_type": "markdown",
   "metadata": {},
   "source": [
    "<br>"
   ]
  },
  {
   "cell_type": "markdown",
   "metadata": {},
   "source": [
    "### 1-4. Explanations on the model"
   ]
  },
  {
   "cell_type": "markdown",
   "metadata": {},
   "source": [
    "<br>"
   ]
  },
  {
   "cell_type": "markdown",
   "metadata": {},
   "source": [
    "### 1-5. Model Evaluation"
   ]
  },
  {
   "cell_type": "markdown",
   "metadata": {},
   "source": [
    "<br>"
   ]
  },
  {
   "cell_type": "markdown",
   "metadata": {},
   "source": [
    "<br>\n",
    "\n",
    "---\n",
    "\n",
    "<br>"
   ]
  },
  {
   "cell_type": "markdown",
   "metadata": {},
   "source": [
    "## **2. Logistic Regression**"
   ]
  }
 ],
 "metadata": {
  "interpreter": {
   "hash": "955b5dbf1c9568fcdca6427b82ed9dd3b5652756bab72d537c2112a7dd2607f3"
  },
  "kernelspec": {
   "display_name": "Python 3.10.2 64-bit",
   "language": "python",
   "name": "python3"
  },
  "language_info": {
   "codemirror_mode": {
    "name": "ipython",
    "version": 3
   },
   "file_extension": ".py",
   "mimetype": "text/x-python",
   "name": "python",
   "nbconvert_exporter": "python",
   "pygments_lexer": "ipython3",
   "version": "3.10.2"
  },
  "orig_nbformat": 4
 },
 "nbformat": 4,
 "nbformat_minor": 2
}
