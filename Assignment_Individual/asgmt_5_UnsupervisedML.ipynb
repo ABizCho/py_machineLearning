{
 "cells": [
  {
   "cell_type": "markdown",
   "metadata": {},
   "source": [
    "# **Assignment#5**\n",
    "### **Unsupervised MLs, Clustering and Profiling on 'Bank markting data' & Association Analysis on 'TV_Shows-Association_Rules_Learning Data'**\n",
    "    Dep  : Department of E-Business - Undergraduate, AJOU School of Business, Ajou University\n",
    "    Code : 201823869 \n",
    "    Name : seongwoo Cho\n",
    "\n",
    "<br>\n",
    "\n",
    "#### **INDEX** \n",
    "\n",
    "**A. Clustering and Profiling**\n",
    "1. Summarize the data set <br>\n",
    "2. Prepare the data to build a model <br>\n",
    "3. Build a hybrid model with the k-means clustering and the agglomerative clustering <br>\n",
    "4. Visualzie the clusters in therms of key predictors<br>\n",
    "\n",
    "<br>\n",
    "\n",
    "**B. Association Rules**\n",
    "1. Prepare the data to find out association rules and drop NA <br>\n",
    "2. Visualzie the most popular 10 items in the data set\n",
    "3. Show a list of association rules\n",
    "4. Recommend several item sets of the TV shows based on the support, confidence, and lift measures\n",
    "\n",
    "<br><br>\n",
    "\n",
    "---\n",
    "\n",
    "<br><br>"
   ]
  }
 ],
 "metadata": {
  "language_info": {
   "name": "python"
  },
  "orig_nbformat": 4
 },
 "nbformat": 4,
 "nbformat_minor": 2
}
