{
 "cells": [
  {
   "cell_type": "markdown",
   "metadata": {},
   "source": [
    "# **Assignment#5**\n",
    "### **Unsupervised MLs, Clustering and Profiling on 'Bank markting data' & Association Analysis on 'TV_Shows-Association_Rules_Learning Data'**\n",
    "    Dep  : Department of E-Business - Undergraduate, AJOU School of Business, Ajou University\n",
    "    Code : 201823869 \n",
    "    Name : seongwoo Cho\n",
    "\n",
    "<br>\n",
    "\n",
    "#### **INDEX** \n",
    "\n",
    "**A. Clustering and Profiling**\n",
    "1. Summarize the data set <br>\n",
    "2. Prepare the data to build a model <br>\n",
    "3. Build a hybrid model with the k-means clustering and the agglomerative clustering <br>\n",
    "4. Visualize the clusters in terms of key predictors<br>\n",
    "\n",
    "<br>\n",
    "\n",
    "**B. Association Rules**\n",
    "1. Prepare the data to find out association rules and drop NA <br>\n",
    "2. Visualzie the most popular 10 items in the data set\n",
    "3. Show a list of association rules\n",
    "4. Recommend several item sets of the TV shows based on the support, confidence, and lift measures\n",
    "\n",
    "<br><br>\n",
    "\n",
    "---\n",
    "\n",
    "<br><br>"
   ]
  },
  {
   "cell_type": "markdown",
   "metadata": {},
   "source": [
    "# **A. Clustering and Profiling**"
   ]
  },
  {
   "cell_type": "markdown",
   "metadata": {},
   "source": [
    "### ***A1. Summarize the data set***"
   ]
  },
  {
   "cell_type": "markdown",
   "metadata": {},
   "source": [
    "### ***A2. Prepare the data to build a model***"
   ]
  },
  {
   "cell_type": "markdown",
   "metadata": {},
   "source": [
    "### ***A3. Build a hybrid model with the k-means and agglomerative clsutering***"
   ]
  },
  {
   "cell_type": "markdown",
   "metadata": {},
   "source": [
    "### ***A4. Visualize the clusters in terms of key predictors***"
   ]
  },
  {
   "cell_type": "markdown",
   "metadata": {},
   "source": [
    "# **B. Association Rules**"
   ]
  },
  {
   "cell_type": "markdown",
   "metadata": {},
   "source": [
    "### ***B1. Prepare the data to find out association rules and drop NA***"
   ]
  },
  {
   "cell_type": "markdown",
   "metadata": {},
   "source": [
    "### ***B2. Visualize the most popular 10 items in the data set***"
   ]
  },
  {
   "cell_type": "markdown",
   "metadata": {},
   "source": [
    "### ***B3. Show a list of association rules***"
   ]
  },
  {
   "cell_type": "markdown",
   "metadata": {},
   "source": [
    "### ***B4. Recommend several item sets of the TV shows based on the support, confidence, lift measures***"
   ]
  },
  {
   "cell_type": "markdown",
   "metadata": {},
   "source": []
  },
  {
   "cell_type": "markdown",
   "metadata": {},
   "source": []
  }
 ],
 "metadata": {
  "language_info": {
   "name": "python"
  },
  "orig_nbformat": 4
 },
 "nbformat": 4,
 "nbformat_minor": 2
}
