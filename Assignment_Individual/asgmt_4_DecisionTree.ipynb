{
 "cells": [
  {
   "cell_type": "markdown",
   "metadata": {},
   "source": [
    "# requirements\n",
    "\n",
    "1. summarize\n",
    "2. split into train test\n",
    "3. print the feauture more important for predicting\n",
    "4. Build DecisionTree and RandomForest models to predict the target\n",
    "5. Visualize and Compare the two models\n"
   ]
  },
  {
   "cell_type": "code",
   "execution_count": null,
   "metadata": {},
   "outputs": [],
   "source": []
  }
 ],
 "metadata": {
  "language_info": {
   "name": "python"
  },
  "orig_nbformat": 4
 },
 "nbformat": 4,
 "nbformat_minor": 2
}
