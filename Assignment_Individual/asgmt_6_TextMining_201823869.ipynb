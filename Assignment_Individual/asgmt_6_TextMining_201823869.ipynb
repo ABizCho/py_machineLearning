{
 "cells": [
  {
   "cell_type": "markdown",
   "metadata": {},
   "source": [
    "# **Assignment #6**\n",
    "### **Text Mining and Classification on the 'Yelp Reviews'**\n",
    "    Dep  : Department of E-Business - Undergraduate, AJOU School of Business, Ajou University\n",
    "    Code : 201823869 \n",
    "    Name : seongwoo Cho\n",
    "\n",
    "<br>\n",
    "\n",
    "#### **INDEX** \n",
    "\n",
    "1. **Create five histograms** of text length of reviews with dif-numbers of stars(1-5 stars).\n",
    "2. **Create boxplot** of text length for each number-of-star category\n",
    "3. **Create a countplot** of the number of occurences for each number-of-star category\n",
    "4. **Groupby** to get the mean values of the four numerical cols (i.e., cool,useful,funny,text lenth) within each number-of-star category\n",
    "5. **Produce a correlation matrix** of the four numerical columns\n",
    "6. **NLP classification** tasks\n",
    "\n",
    "    - 6.1. **Exclude 2,3,4-Star : yelp_class**\n",
    "    <br>\n",
    "    \n",
    "    - 6.2. **Create two objects: X(Text col) and y(Star col).**\n",
    "\n",
    "    - 6.3. **create a CountVectorizer object.**\n",
    "\n",
    "    - 6.4. **Use the “fit_transform” method on the CountVectorizer object and pass in X**\n",
    "      \n",
    "    <br>\n",
    "\n",
    "7. **Split up the data**\n",
    "\n",
    "8. **Create an instance of the estimator.**\n",
    "\n",
    "9. **Predict whether the number of stars on a review is 5 or 1 from X_test.**\n",
    "\n",
    "10. **Create a confusion matrix and classification report**\n",
    "\n",
    "11.  **The most important five words in the prediction.** \n",
    "\n",
    "<br><br>\n",
    "\n",
    "---\n",
    "\n",
    "<br><br>"
   ]
  },
  {
   "cell_type": "markdown",
   "metadata": {},
   "source": [
    "### **Yelp Reviews Dataset**\n",
    "\n",
    "This dataset is a of Yelp's text reviews data. It was originally put together for the Yelp Dataset Challenge which is a chance for students to conduct research or analysis on Yelp's data and share their discoveries. In the most recent dataset you'll find information about businesses across 8 metropolitan areas in the USA and Canada.\n",
    "\n",
    "- Each observation in the data set is a particular user’s review on a particular business. The “stars” column (i.e., variable) shows the number of “stars” (1 through 5) assigned by the reviewer to the business. More stars are better. In other words, it is the rating of the business by the person who wrote the review.\n",
    "\n",
    "- The “cool” column is the number of “cool” votes this review received from other Yelp users. All reviews start with 0 “cool” votes. There is no limit to how many “cool” votes a review can receive. In other words, it is a rating of the review itself, not a rating of the business. In a similar way, the “useful” and “funny” columns are also vote ratings of the reviews in the different aspects.\n",
    "\n",
    "<br>\n",
    "\n",
    "*source : https://www.kaggle.com/datasets/omkarsabnis/yelp-reviews-dataset*\n",
    "\n",
    "\n",
    "<br><br>\n",
    "\n",
    "---\n",
    "\n",
    "<br><br>"
   ]
  }
 ],
 "metadata": {
  "language_info": {
   "name": "python"
  },
  "orig_nbformat": 4
 },
 "nbformat": 4,
 "nbformat_minor": 2
}
