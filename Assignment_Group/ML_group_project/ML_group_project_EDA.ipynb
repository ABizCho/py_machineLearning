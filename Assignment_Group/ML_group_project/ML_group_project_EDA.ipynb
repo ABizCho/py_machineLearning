{
 "cells": [
  {
   "cell_type": "code",
   "execution_count": 2,
   "metadata": {},
   "outputs": [],
   "source": [
    "import pandas as pd\n",
    "import numpy as np\n",
    "import matplotlib.pyplot as plt\n",
    "import seaborn as sns"
   ]
  },
  {
   "cell_type": "code",
   "execution_count": 3,
   "metadata": {},
   "outputs": [],
   "source": [
    "df_ht = pd.read_csv('C:/Users/he125/OneDrive/바탕 화면/Dev/Git/py_machineLearning/Assignment_Group/ML_group_project/hotel_bookings.csv')"
   ]
  },
  {
   "cell_type": "code",
   "execution_count": 4,
   "metadata": {},
   "outputs": [
    {
     "name": "stdout",
     "output_type": "stream",
     "text": [
      "City Hotel    79330\n",
      "Name: hotel, dtype: int64 Resort Hotel    40060\n",
      "Name: hotel, dtype: int64\n"
     ]
    }
   ],
   "source": [
    "#전처리 제안 : 몇가지 EDA를 위해 resort hotel과 city hotel을 분리\n",
    "df_ht = pd.read_csv('C:/Users/he125/OneDrive/바탕 화면/Dev/Git/py_machineLearning/Assignment_Group/ML_group_project/hotel_bookings.csv')\n",
    "\n",
    "df_ht['hotel'].value_counts()\n",
    "\n",
    "df_ch = df_ht[df_ht['hotel'] == 'City Hotel']\n",
    "df_rh = df_ht[df_ht['hotel'] == 'Resort Hotel']\n",
    "\n",
    "print(df_ch['hotel'].value_counts(),df_rh['hotel'].value_counts())\n"
   ]
  },
  {
   "cell_type": "code",
   "execution_count": 5,
   "metadata": {},
   "outputs": [
    {
     "data": {
      "text/plain": [
       "array(['hotel', 'is_canceled', 'lead_time', 'arrival_date_year',\n",
       "       'arrival_date_month', 'arrival_date_week_number',\n",
       "       'arrival_date_day_of_month', 'stays_in_weekend_nights',\n",
       "       'stays_in_week_nights', 'adults', 'children', 'babies', 'meal',\n",
       "       'country', 'market_segment', 'distribution_channel',\n",
       "       'is_repeated_guest', 'previous_cancellations',\n",
       "       'previous_bookings_not_canceled', 'reserved_room_type',\n",
       "       'assigned_room_type', 'booking_changes', 'deposit_type', 'agent',\n",
       "       'company', 'days_in_waiting_list', 'customer_type', 'adr',\n",
       "       'required_car_parking_spaces', 'total_of_special_requests',\n",
       "       'reservation_status', 'reservation_status_date'], dtype=object)"
      ]
     },
     "execution_count": 5,
     "metadata": {},
     "output_type": "execute_result"
    }
   ],
   "source": [
    "df_ht.columns.values"
   ]
  },
  {
   "cell_type": "code",
   "execution_count": 6,
   "metadata": {},
   "outputs": [
    {
     "data": {
      "text/html": [
       "<div>\n",
       "<style scoped>\n",
       "    .dataframe tbody tr th:only-of-type {\n",
       "        vertical-align: middle;\n",
       "    }\n",
       "\n",
       "    .dataframe tbody tr th {\n",
       "        vertical-align: top;\n",
       "    }\n",
       "\n",
       "    .dataframe thead th {\n",
       "        text-align: right;\n",
       "    }\n",
       "</style>\n",
       "<table border=\"1\" class=\"dataframe\">\n",
       "  <thead>\n",
       "    <tr style=\"text-align: right;\">\n",
       "      <th></th>\n",
       "      <th>hotel</th>\n",
       "      <th>is_canceled</th>\n",
       "      <th>lead_time</th>\n",
       "      <th>arrival_date_year</th>\n",
       "      <th>arrival_date_month</th>\n",
       "      <th>arrival_date_week_number</th>\n",
       "      <th>arrival_date_day_of_month</th>\n",
       "      <th>stays_in_weekend_nights</th>\n",
       "      <th>stays_in_week_nights</th>\n",
       "      <th>adults</th>\n",
       "      <th>...</th>\n",
       "      <th>deposit_type</th>\n",
       "      <th>agent</th>\n",
       "      <th>company</th>\n",
       "      <th>days_in_waiting_list</th>\n",
       "      <th>customer_type</th>\n",
       "      <th>adr</th>\n",
       "      <th>required_car_parking_spaces</th>\n",
       "      <th>total_of_special_requests</th>\n",
       "      <th>reservation_status</th>\n",
       "      <th>reservation_status_date</th>\n",
       "    </tr>\n",
       "  </thead>\n",
       "  <tbody>\n",
       "    <tr>\n",
       "      <th>0</th>\n",
       "      <td>Resort Hotel</td>\n",
       "      <td>0</td>\n",
       "      <td>342</td>\n",
       "      <td>2015</td>\n",
       "      <td>July</td>\n",
       "      <td>27</td>\n",
       "      <td>1</td>\n",
       "      <td>0</td>\n",
       "      <td>0</td>\n",
       "      <td>2</td>\n",
       "      <td>...</td>\n",
       "      <td>No Deposit</td>\n",
       "      <td>NaN</td>\n",
       "      <td>NaN</td>\n",
       "      <td>0</td>\n",
       "      <td>Transient</td>\n",
       "      <td>0.0</td>\n",
       "      <td>0</td>\n",
       "      <td>0</td>\n",
       "      <td>Check-Out</td>\n",
       "      <td>2015-07-01</td>\n",
       "    </tr>\n",
       "    <tr>\n",
       "      <th>1</th>\n",
       "      <td>Resort Hotel</td>\n",
       "      <td>0</td>\n",
       "      <td>737</td>\n",
       "      <td>2015</td>\n",
       "      <td>July</td>\n",
       "      <td>27</td>\n",
       "      <td>1</td>\n",
       "      <td>0</td>\n",
       "      <td>0</td>\n",
       "      <td>2</td>\n",
       "      <td>...</td>\n",
       "      <td>No Deposit</td>\n",
       "      <td>NaN</td>\n",
       "      <td>NaN</td>\n",
       "      <td>0</td>\n",
       "      <td>Transient</td>\n",
       "      <td>0.0</td>\n",
       "      <td>0</td>\n",
       "      <td>0</td>\n",
       "      <td>Check-Out</td>\n",
       "      <td>2015-07-01</td>\n",
       "    </tr>\n",
       "    <tr>\n",
       "      <th>2</th>\n",
       "      <td>Resort Hotel</td>\n",
       "      <td>0</td>\n",
       "      <td>7</td>\n",
       "      <td>2015</td>\n",
       "      <td>July</td>\n",
       "      <td>27</td>\n",
       "      <td>1</td>\n",
       "      <td>0</td>\n",
       "      <td>1</td>\n",
       "      <td>1</td>\n",
       "      <td>...</td>\n",
       "      <td>No Deposit</td>\n",
       "      <td>NaN</td>\n",
       "      <td>NaN</td>\n",
       "      <td>0</td>\n",
       "      <td>Transient</td>\n",
       "      <td>75.0</td>\n",
       "      <td>0</td>\n",
       "      <td>0</td>\n",
       "      <td>Check-Out</td>\n",
       "      <td>2015-07-02</td>\n",
       "    </tr>\n",
       "    <tr>\n",
       "      <th>3</th>\n",
       "      <td>Resort Hotel</td>\n",
       "      <td>0</td>\n",
       "      <td>13</td>\n",
       "      <td>2015</td>\n",
       "      <td>July</td>\n",
       "      <td>27</td>\n",
       "      <td>1</td>\n",
       "      <td>0</td>\n",
       "      <td>1</td>\n",
       "      <td>1</td>\n",
       "      <td>...</td>\n",
       "      <td>No Deposit</td>\n",
       "      <td>304.0</td>\n",
       "      <td>NaN</td>\n",
       "      <td>0</td>\n",
       "      <td>Transient</td>\n",
       "      <td>75.0</td>\n",
       "      <td>0</td>\n",
       "      <td>0</td>\n",
       "      <td>Check-Out</td>\n",
       "      <td>2015-07-02</td>\n",
       "    </tr>\n",
       "    <tr>\n",
       "      <th>4</th>\n",
       "      <td>Resort Hotel</td>\n",
       "      <td>0</td>\n",
       "      <td>14</td>\n",
       "      <td>2015</td>\n",
       "      <td>July</td>\n",
       "      <td>27</td>\n",
       "      <td>1</td>\n",
       "      <td>0</td>\n",
       "      <td>2</td>\n",
       "      <td>2</td>\n",
       "      <td>...</td>\n",
       "      <td>No Deposit</td>\n",
       "      <td>240.0</td>\n",
       "      <td>NaN</td>\n",
       "      <td>0</td>\n",
       "      <td>Transient</td>\n",
       "      <td>98.0</td>\n",
       "      <td>0</td>\n",
       "      <td>1</td>\n",
       "      <td>Check-Out</td>\n",
       "      <td>2015-07-03</td>\n",
       "    </tr>\n",
       "  </tbody>\n",
       "</table>\n",
       "<p>5 rows × 32 columns</p>\n",
       "</div>"
      ],
      "text/plain": [
       "          hotel  is_canceled  lead_time  arrival_date_year arrival_date_month  \\\n",
       "0  Resort Hotel            0        342               2015               July   \n",
       "1  Resort Hotel            0        737               2015               July   \n",
       "2  Resort Hotel            0          7               2015               July   \n",
       "3  Resort Hotel            0         13               2015               July   \n",
       "4  Resort Hotel            0         14               2015               July   \n",
       "\n",
       "   arrival_date_week_number  arrival_date_day_of_month  \\\n",
       "0                        27                          1   \n",
       "1                        27                          1   \n",
       "2                        27                          1   \n",
       "3                        27                          1   \n",
       "4                        27                          1   \n",
       "\n",
       "   stays_in_weekend_nights  stays_in_week_nights  adults  ...  deposit_type  \\\n",
       "0                        0                     0       2  ...    No Deposit   \n",
       "1                        0                     0       2  ...    No Deposit   \n",
       "2                        0                     1       1  ...    No Deposit   \n",
       "3                        0                     1       1  ...    No Deposit   \n",
       "4                        0                     2       2  ...    No Deposit   \n",
       "\n",
       "   agent company days_in_waiting_list customer_type   adr  \\\n",
       "0    NaN     NaN                    0     Transient   0.0   \n",
       "1    NaN     NaN                    0     Transient   0.0   \n",
       "2    NaN     NaN                    0     Transient  75.0   \n",
       "3  304.0     NaN                    0     Transient  75.0   \n",
       "4  240.0     NaN                    0     Transient  98.0   \n",
       "\n",
       "   required_car_parking_spaces  total_of_special_requests  reservation_status  \\\n",
       "0                            0                          0           Check-Out   \n",
       "1                            0                          0           Check-Out   \n",
       "2                            0                          0           Check-Out   \n",
       "3                            0                          0           Check-Out   \n",
       "4                            0                          1           Check-Out   \n",
       "\n",
       "  reservation_status_date  \n",
       "0              2015-07-01  \n",
       "1              2015-07-01  \n",
       "2              2015-07-02  \n",
       "3              2015-07-02  \n",
       "4              2015-07-03  \n",
       "\n",
       "[5 rows x 32 columns]"
      ]
     },
     "execution_count": 6,
     "metadata": {},
     "output_type": "execute_result"
    }
   ],
   "source": [
    "df_ht.head()"
   ]
  },
  {
   "cell_type": "code",
   "execution_count": 7,
   "metadata": {},
   "outputs": [
    {
     "name": "stdout",
     "output_type": "stream",
     "text": [
      "<class 'pandas.core.frame.DataFrame'>\n",
      "RangeIndex: 119390 entries, 0 to 119389\n",
      "Data columns (total 32 columns):\n",
      " #   Column                          Non-Null Count   Dtype  \n",
      "---  ------                          --------------   -----  \n",
      " 0   hotel                           119390 non-null  object \n",
      " 1   is_canceled                     119390 non-null  int64  \n",
      " 2   lead_time                       119390 non-null  int64  \n",
      " 3   arrival_date_year               119390 non-null  int64  \n",
      " 4   arrival_date_month              119390 non-null  object \n",
      " 5   arrival_date_week_number        119390 non-null  int64  \n",
      " 6   arrival_date_day_of_month       119390 non-null  int64  \n",
      " 7   stays_in_weekend_nights         119390 non-null  int64  \n",
      " 8   stays_in_week_nights            119390 non-null  int64  \n",
      " 9   adults                          119390 non-null  int64  \n",
      " 10  children                        119386 non-null  float64\n",
      " 11  babies                          119390 non-null  int64  \n",
      " 12  meal                            119390 non-null  object \n",
      " 13  country                         118902 non-null  object \n",
      " 14  market_segment                  119390 non-null  object \n",
      " 15  distribution_channel            119390 non-null  object \n",
      " 16  is_repeated_guest               119390 non-null  int64  \n",
      " 17  previous_cancellations          119390 non-null  int64  \n",
      " 18  previous_bookings_not_canceled  119390 non-null  int64  \n",
      " 19  reserved_room_type              119390 non-null  object \n",
      " 20  assigned_room_type              119390 non-null  object \n",
      " 21  booking_changes                 119390 non-null  int64  \n",
      " 22  deposit_type                    119390 non-null  object \n",
      " 23  agent                           103050 non-null  float64\n",
      " 24  company                         6797 non-null    float64\n",
      " 25  days_in_waiting_list            119390 non-null  int64  \n",
      " 26  customer_type                   119390 non-null  object \n",
      " 27  adr                             119390 non-null  float64\n",
      " 28  required_car_parking_spaces     119390 non-null  int64  \n",
      " 29  total_of_special_requests       119390 non-null  int64  \n",
      " 30  reservation_status              119390 non-null  object \n",
      " 31  reservation_status_date         119390 non-null  object \n",
      "dtypes: float64(4), int64(16), object(12)\n",
      "memory usage: 29.1+ MB\n"
     ]
    }
   ],
   "source": [
    "df_ht.info()"
   ]
  },
  {
   "cell_type": "markdown",
   "metadata": {},
   "source": [
    "# 기초 탐색"
   ]
  },
  {
   "cell_type": "code",
   "execution_count": 8,
   "metadata": {},
   "outputs": [
    {
     "data": {
      "text/plain": [
       "0     118473\n",
       "1        900\n",
       "2         15\n",
       "10         1\n",
       "9          1\n",
       "Name: babies, dtype: int64"
      ]
     },
     "execution_count": 8,
     "metadata": {},
     "output_type": "execute_result"
    }
   ],
   "source": [
    "df_ht['babies'].value_counts()\n",
    "# babies 컬럼은 큰 의미가 없어보인다."
   ]
  },
  {
   "cell_type": "code",
   "execution_count": 9,
   "metadata": {},
   "outputs": [
    {
     "data": {
      "text/plain": [
       "2016    56707\n",
       "2017    40687\n",
       "2015    21996\n",
       "Name: arrival_date_year, dtype: int64"
      ]
     },
     "execution_count": 9,
     "metadata": {},
     "output_type": "execute_result"
    }
   ],
   "source": [
    "df_ht['arrival_date_year'].value_counts()"
   ]
  },
  {
   "cell_type": "code",
   "execution_count": 10,
   "metadata": {},
   "outputs": [
    {
     "data": {
      "text/plain": [
       "August       13877\n",
       "July         12661\n",
       "May          11791\n",
       "October      11160\n",
       "April        11089\n",
       "June         10939\n",
       "September    10508\n",
       "March         9794\n",
       "February      8068\n",
       "November      6794\n",
       "December      6780\n",
       "January       5929\n",
       "Name: arrival_date_month, dtype: int64"
      ]
     },
     "execution_count": 10,
     "metadata": {},
     "output_type": "execute_result"
    }
   ],
   "source": [
    "df_ht['arrival_date_month'].value_counts()"
   ]
  },
  {
   "cell_type": "code",
   "execution_count": 11,
   "metadata": {},
   "outputs": [
    {
     "data": {
      "text/plain": [
       "0     51998\n",
       "2     33308\n",
       "1     30626\n",
       "4      1855\n",
       "3      1259\n",
       "6       153\n",
       "5        79\n",
       "8        60\n",
       "7        19\n",
       "9        11\n",
       "10        7\n",
       "12        5\n",
       "13        3\n",
       "16        3\n",
       "14        2\n",
       "18        1\n",
       "19        1\n",
       "Name: stays_in_weekend_nights, dtype: int64"
      ]
     },
     "execution_count": 11,
     "metadata": {},
     "output_type": "execute_result"
    }
   ],
   "source": [
    "df_ht['stays_in_weekend_nights'].value_counts()"
   ]
  },
  {
   "cell_type": "code",
   "execution_count": 12,
   "metadata": {},
   "outputs": [
    {
     "data": {
      "text/plain": [
       "0     51998\n",
       "2     33308\n",
       "1     30626\n",
       "4      1855\n",
       "3      1259\n",
       "6       153\n",
       "5        79\n",
       "8        60\n",
       "7        19\n",
       "9        11\n",
       "10        7\n",
       "12        5\n",
       "13        3\n",
       "16        3\n",
       "14        2\n",
       "18        1\n",
       "19        1\n",
       "Name: stays_in_weekend_nights, dtype: int64"
      ]
     },
     "execution_count": 12,
     "metadata": {},
     "output_type": "execute_result"
    }
   ],
   "source": [
    "df_ht['stays_in_weekend_nights'].value_counts()"
   ]
  },
  {
   "cell_type": "code",
   "execution_count": 13,
   "metadata": {},
   "outputs": [
    {
     "data": {
      "text/plain": [
       "2     89680\n",
       "1     23027\n",
       "3      6202\n",
       "0       403\n",
       "4        62\n",
       "26        5\n",
       "27        2\n",
       "20        2\n",
       "5         2\n",
       "40        1\n",
       "50        1\n",
       "55        1\n",
       "6         1\n",
       "10        1\n",
       "Name: adults, dtype: int64"
      ]
     },
     "execution_count": 13,
     "metadata": {},
     "output_type": "execute_result"
    }
   ],
   "source": [
    "df_ht['adults'].value_counts()"
   ]
  },
  {
   "cell_type": "markdown",
   "metadata": {},
   "source": [
    "# Length of Stay\n",
    "리조트 호텔과 시티 호텔에서 각각 사람들이 얼마나 머물렀는지, 머무른 날의 수에 따른 관측치 분포를 살펴본다."
   ]
  },
  {
   "cell_type": "code",
   "execution_count": 14,
   "metadata": {},
   "outputs": [
    {
     "name": "stderr",
     "output_type": "stream",
     "text": [
      "C:\\Users\\he125\\AppData\\Local\\Temp\\ipykernel_6284\\3151833256.py:2: SettingWithCopyWarning: \n",
      "A value is trying to be set on a copy of a slice from a DataFrame.\n",
      "Try using .loc[row_indexer,col_indexer] = value instead\n",
      "\n",
      "See the caveats in the documentation: https://pandas.pydata.org/pandas-docs/stable/user_guide/indexing.html#returning-a-view-versus-a-copy\n",
      "  df_rh[\"total_nights\"] = df_rh[\"stays_in_weekend_nights\"] + df_rh[\"stays_in_week_nights\"]\n",
      "C:\\Users\\he125\\AppData\\Local\\Temp\\ipykernel_6284\\3151833256.py:3: SettingWithCopyWarning: \n",
      "A value is trying to be set on a copy of a slice from a DataFrame.\n",
      "Try using .loc[row_indexer,col_indexer] = value instead\n",
      "\n",
      "See the caveats in the documentation: https://pandas.pydata.org/pandas-docs/stable/user_guide/indexing.html#returning-a-view-versus-a-copy\n",
      "  df_ch[\"total_nights\"] = df_ch[\"stays_in_weekend_nights\"] + df_ch[\"stays_in_week_nights\"]\n"
     ]
    },
    {
     "data": {
      "image/png": "[encoded data removed]",
      "text/plain": [
       "<Figure size 1152x576 with 1 Axes>"
      ]
     },
     "metadata": {
      "needs_background": "light"
     },
     "output_type": "display_data"
    },
    {
     "data": {
      "text/html": [
       "<div>\n",
       "<style scoped>\n",
       "    .dataframe tbody tr th:only-of-type {\n",
       "        vertical-align: middle;\n",
       "    }\n",
       "\n",
       "    .dataframe tbody tr th {\n",
       "        vertical-align: top;\n",
       "    }\n",
       "\n",
       "    .dataframe thead th {\n",
       "        text-align: right;\n",
       "    }\n",
       "</style>\n",
       "<table border=\"1\" class=\"dataframe\">\n",
       "  <thead>\n",
       "    <tr style=\"text-align: right;\">\n",
       "      <th></th>\n",
       "      <th>hotel</th>\n",
       "      <th>num_nights</th>\n",
       "      <th>rel_num_bookings</th>\n",
       "    </tr>\n",
       "  </thead>\n",
       "  <tbody>\n",
       "    <tr>\n",
       "      <th>0</th>\n",
       "      <td>Resort hotel</td>\n",
       "      <td>1</td>\n",
       "      <td>19.340989</td>\n",
       "    </tr>\n",
       "    <tr>\n",
       "      <th>1</th>\n",
       "      <td>Resort hotel</td>\n",
       "      <td>7</td>\n",
       "      <td>16.465302</td>\n",
       "    </tr>\n",
       "    <tr>\n",
       "      <th>2</th>\n",
       "      <td>Resort hotel</td>\n",
       "      <td>2</td>\n",
       "      <td>15.519221</td>\n",
       "    </tr>\n",
       "    <tr>\n",
       "      <th>3</th>\n",
       "      <td>Resort hotel</td>\n",
       "      <td>3</td>\n",
       "      <td>14.216176</td>\n",
       "    </tr>\n",
       "    <tr>\n",
       "      <th>4</th>\n",
       "      <td>Resort hotel</td>\n",
       "      <td>4</td>\n",
       "      <td>12.046930</td>\n",
       "    </tr>\n",
       "    <tr>\n",
       "      <th>...</th>\n",
       "      <td>...</td>\n",
       "      <td>...</td>\n",
       "      <td>...</td>\n",
       "    </tr>\n",
       "    <tr>\n",
       "      <th>71</th>\n",
       "      <td>City hotel</td>\n",
       "      <td>48</td>\n",
       "      <td>0.001261</td>\n",
       "    </tr>\n",
       "    <tr>\n",
       "      <th>72</th>\n",
       "      <td>City hotel</td>\n",
       "      <td>49</td>\n",
       "      <td>0.001261</td>\n",
       "    </tr>\n",
       "    <tr>\n",
       "      <th>73</th>\n",
       "      <td>City hotel</td>\n",
       "      <td>57</td>\n",
       "      <td>0.001261</td>\n",
       "    </tr>\n",
       "    <tr>\n",
       "      <th>74</th>\n",
       "      <td>City hotel</td>\n",
       "      <td>34</td>\n",
       "      <td>0.001261</td>\n",
       "    </tr>\n",
       "    <tr>\n",
       "      <th>75</th>\n",
       "      <td>City hotel</td>\n",
       "      <td>43</td>\n",
       "      <td>0.001261</td>\n",
       "    </tr>\n",
       "  </tbody>\n",
       "</table>\n",
       "<p>76 rows × 3 columns</p>\n",
       "</div>"
      ],
      "text/plain": [
       "           hotel  num_nights  rel_num_bookings\n",
       "0   Resort hotel           1         19.340989\n",
       "1   Resort hotel           7         16.465302\n",
       "2   Resort hotel           2         15.519221\n",
       "3   Resort hotel           3         14.216176\n",
       "4   Resort hotel           4         12.046930\n",
       "..           ...         ...               ...\n",
       "71    City hotel          48          0.001261\n",
       "72    City hotel          49          0.001261\n",
       "73    City hotel          57          0.001261\n",
       "74    City hotel          34          0.001261\n",
       "75    City hotel          43          0.001261\n",
       "\n",
       "[76 rows x 3 columns]"
      ]
     },
     "execution_count": 14,
     "metadata": {},
     "output_type": "execute_result"
    }
   ],
   "source": [
    "# Create a DateFrame with the relevant data:\n",
    "df_rh[\"total_nights\"] = df_rh[\"stays_in_weekend_nights\"] + df_rh[\"stays_in_week_nights\"]\n",
    "df_ch[\"total_nights\"] = df_ch[\"stays_in_weekend_nights\"] + df_ch[\"stays_in_week_nights\"]\n",
    "\n",
    "\n",
    "num_nights_res = list(df_rh[\"total_nights\"].value_counts().index)\n",
    "num_bookings_res = list(df_rh[\"total_nights\"].value_counts())\n",
    "rel_bookings_res = df_rh[\"total_nights\"].value_counts() / sum(num_bookings_res) * 100 # convert to percent\n",
    "\n",
    "num_nights_cty = list(df_ch[\"total_nights\"].value_counts().index)\n",
    "num_bookings_cty = list(df_ch[\"total_nights\"].value_counts())\n",
    "rel_bookings_cty = df_ch[\"total_nights\"].value_counts() / sum(num_bookings_cty) * 100 # convert to percent\n",
    "\n",
    "res_nights = pd.DataFrame({\"hotel\": \"Resort hotel\",\n",
    "                           \"num_nights\": num_nights_res,\n",
    "                           \"rel_num_bookings\": rel_bookings_res})\n",
    "\n",
    "cty_nights = pd.DataFrame({\"hotel\": \"City hotel\",\n",
    "                           \"num_nights\": num_nights_cty,\n",
    "                           \"rel_num_bookings\": rel_bookings_cty})\n",
    "\n",
    "nights_data = pd.concat([res_nights, cty_nights], ignore_index=True)\n",
    "\n",
    "\n",
    "#Plotting\n",
    "plt.figure(figsize=(16, 8))\n",
    "sns.barplot(x = \"num_nights\", y = \"rel_num_bookings\", hue=\"hotel\", data=nights_data,\n",
    "            hue_order = [\"City hotel\", \"Resort hotel\"])\n",
    "plt.title(\"Length of stay\", fontsize=16)\n",
    "plt.xlabel(\"Number of nights\", fontsize=16)\n",
    "plt.ylabel(\"Guests [%]\", fontsize=16)\n",
    "plt.legend(loc=\"upper right\")\n",
    "plt.xlim(0,22)\n",
    "plt.show()\n",
    "\n",
    "nights_data"
   ]
  },
  {
   "cell_type": "markdown",
   "metadata": {},
   "source": [
    "### Suggestion : \n",
    "플롯에서 살펴보면, 시티 호텔에선 1일~4일의 숙박기간 사이에 많은 관측값이 분포해있고,\n",
    "리조트 호텔의 경우 시티호텔과 전체적으로 유사하나, 시티호텔보다는 꼬리쪽 분포가 높게 형성돼 있다.\n",
    "\n",
    "리조트 호텔은 무엇보다도 7일 동안 머무른 관측값의 수가 유의미하게 높다는 점에서 시티호텔과 큰 차이를 보이는데,\n",
    "이는 리조트 호텔이 시티 호텔에 비해 비교적 접근성이 낮기 때문에, 긴 휴가기간을 확보한 고객이 많이 찾는 것으로 보인다. Vice versa.\n",
    "\n",
    "우리는 City hotel의 주 고객층을 1일~4일을 머무르는 고객을 주 타겟으로 설정하여 promotion을 기획할 수 있을 것이며\n",
    "반대로, Resort hotel의 주 고객층 중 일주일 이상을 머무르는 고객을 타겟으로 promotion을 기획해볼 수 있다.\n",
    "\n",
    "\n",
    "해당 분석의 결과에서 더 나아가, 시티 호텔과 리조트 호텔 각각에서\n",
    "내국인과 외국인 고객의 투숙기간 분포와 비율을 분석하여 내/외국 고객 각각에 적절한 프로모션을 제공하기 위한 인사이트를 정교화 하고자 한다.\n",
    "\n",
    "구체적으로 시티/리조트로 분할하여\n",
    "4일 이하로 투숙한 투숙객의 내/외국인 게스트의 비율과, 4일을 초과하여 투숙한 케이스 각각에 대해\n",
    "내/외국인 게스트의 비율을 구한 후, 전체 내/외국인 게스트 비율과 비교하여 \n",
    "프로모션을 위한 인사이트를 정교하고자 한다.\n",
    "<br><br><br><br>"
   ]
  },
  {
   "cell_type": "code",
   "execution_count": 15,
   "metadata": {},
   "outputs": [
    {
     "name": "stdout",
     "output_type": "stream",
     "text": [
      "Percentage of portuguese Guests :  40.87\n",
      "Percentage of foreign Guests :  59.13\n"
     ]
    }
   ],
   "source": [
    "\n",
    "# 전체 고객 중 [ 자국(포르투갈) 고객 : 국외 고객 ] 비율을 살펴본다\n",
    "count_PRT = int(df_ht[df_ht['country'] == 'PRT' ]['country'].value_counts().values)\n",
    "count_foreign = df_ht[df_ht['country'] != 'PRT']['country'].value_counts().sum()\n",
    "\n",
    "total_count = count_PRT+count_foreign\n",
    "\n",
    "per_count_PRT = (count_PRT / total_count) * 100\n",
    "per_count_foreign = (count_foreign / total_count) * 100\n",
    "\n",
    "per_count_PRT = round(per_count_PRT, ndigits=2)\n",
    "per_count_foreign = round(per_count_foreign, ndigits=2)\n",
    "\n",
    "print('Percentage of portuguese Guests : ',per_count_PRT)\n",
    "print('Percentage of foreign Guests : ',per_count_foreign)"
   ]
  },
  {
   "cell_type": "markdown",
   "metadata": {},
   "source": [
    "총 투숙객 관측값에서 내/외국인은 아래와 같은 비율을 차지한다.\n",
    "- 포르투갈 게스트는 40.87 퍼센트\n",
    "- 외국인 게스트는 59.13 퍼센트\n",
    "\n",
    "<br><br>\n",
    "  \n"
   ]
  },
  {
   "cell_type": "markdown",
   "metadata": {},
   "source": [
    "### **(1) 리조트 호텔에 4일 이하 머문 고객들의 국가분포와 내외국인 비율**"
   ]
  },
  {
   "cell_type": "code",
   "execution_count": 16,
   "metadata": {},
   "outputs": [
    {
     "name": "stdout",
     "output_type": "stream",
     "text": [
      "PRT    12585\n",
      "ESP     2945\n",
      "GBR     2738\n",
      "FRA      964\n",
      "DEU      692\n",
      "Name: country, dtype: int64 \n",
      "\n",
      "Percentage of portuguese Guests :  51.42\n",
      "Percentage of foreign Guests :  48.58\n"
     ]
    }
   ],
   "source": [
    "# 리조트 호텔에 4일 이하 머문 고객들의 국가분포와 내외국인 비율을 살펴보았다.\n",
    "rh_stay_under5 = df_rh[df_rh['total_nights'] < 5]['country']\n",
    "\n",
    "print(rh_stay_under5.value_counts()[0:5],'\\n')\n",
    "    # 1등 포르투갈\n",
    "    # 2등 영국 \n",
    "    # 3등 아일랜드\n",
    "    # 4등 이후 프랑스, 독일, 영국, 브라질, 이탈리아, ..etc \n",
    "    \n",
    "\n",
    "#비율\n",
    "rh_stay_U5_PRT = int(rh_stay_under5[rh_stay_under5 == 'PRT'].value_counts().values)\n",
    "rh_stay_U5_foreign = rh_stay_under5[rh_stay_under5 != 'PRT'].value_counts().sum()\n",
    "\n",
    "rh_stay_U5_total = rh_stay_U5_PRT + rh_stay_U5_foreign\n",
    "\n",
    "per_rh_stay_U5_PRT = round(rh_stay_U5_PRT / rh_stay_U5_total * 100 ,ndigits=2)\n",
    "per_rh_stay_U5_foreign = round(rh_stay_U5_foreign / rh_stay_U5_total * 100,ndigits=2)\n",
    "\n",
    "\n",
    "print('Percentage of portuguese Guests : ',per_rh_stay_U5_PRT)\n",
    "print('Percentage of foreign Guests : ',per_rh_stay_U5_foreign)\n",
    "\n",
    "    # 리조트 호텔에 4일 이하 머문 고객은\n",
    "        # 총 게스트의 내국인(포르투갈) 40.87퍼센트를 유의미하게 상회하는 비율인 51.42% 를 보여준다.\n",
    "\n"
   ]
  },
  {
   "cell_type": "markdown",
   "metadata": {},
   "source": [
    "### **(2) 시티 호텔에 4일 이하 머문 고객들의 국가분포와 내외국인 비율**"
   ]
  },
  {
   "cell_type": "code",
   "execution_count": 17,
   "metadata": {},
   "outputs": [
    {
     "name": "stdout",
     "output_type": "stream",
     "text": [
      "PRT    28819\n",
      "FRA     7185\n",
      "DEU     4911\n",
      "GBR     4458\n",
      "ESP     4177\n",
      "Name: country, dtype: int64 \n",
      "\n",
      "Percentage of portuguese Guests :  41.8\n",
      "Percentage of foreign Guests :  58.2\n"
     ]
    }
   ],
   "source": [
    "# 시티 호텔에 4일 이하 머문 고객들의 국가분포와 비율을 살펴보았다.\n",
    "ch_stay_under5 = df_ch[df_ch['total_nights'] < 5]['country']\n",
    "\n",
    "print(ch_stay_under5.value_counts()[0:5],'\\n')\n",
    "    # 1등 포르투갈\n",
    "    # 2등 영국 \n",
    "    # 3등 아일랜드\n",
    "    # 4등 이후 프랑스, 독일, 영국, 브라질, 이탈리아, ..etc \n",
    "    \n",
    "\n",
    "#비율\n",
    "ch_stay_U5_PRT = int(ch_stay_under5[ch_stay_under5 == 'PRT'].value_counts().values)\n",
    "ch_stay_U5_foreign = ch_stay_under5[ch_stay_under5 != 'PRT'].value_counts().sum()\n",
    "\n",
    "ch_stay_U5_total = ch_stay_U5_PRT + ch_stay_U5_foreign\n",
    "\n",
    "per_ch_stay_U5_PRT = round(ch_stay_U5_PRT / ch_stay_U5_total * 100 ,ndigits=2)\n",
    "per_ch_stay_U5_foreign = round(ch_stay_U5_foreign / ch_stay_U5_total * 100,ndigits=2)\n",
    "\n",
    "\n",
    "print('Percentage of portuguese Guests : ',per_ch_stay_U5_PRT)\n",
    "print('Percentage of foreign Guests : ',per_ch_stay_U5_foreign)\n",
    "\n",
    "    # 시티 호텔에 4일 이하 머문 고객은\n",
    "        # 총 게스트의 내국인(포르투갈) 40.87퍼센트를 조금 상회하는 41.8%로 총 게스트 데이터와 비슷한 값을 보인다.\n"
   ]
  },
  {
   "cell_type": "markdown",
   "metadata": {},
   "source": [
    "### **(3) 리조트 호텔에 5일 이상 머문 고객들의 국가분포와 내외국인 비율**"
   ]
  },
  {
   "cell_type": "code",
   "execution_count": 18,
   "metadata": {},
   "outputs": [
    {
     "name": "stdout",
     "output_type": "stream",
     "text": [
      "PRT    5045\n",
      "GBR    4076\n",
      "IRL    1541\n",
      "ESP    1012\n",
      "FRA     647\n",
      "Name: country, dtype: int64 \n",
      "\n",
      "Percentage of portuguese Guests :  33.36\n",
      "Percentage of foreign Guests :  66.64\n"
     ]
    }
   ],
   "source": [
    "# 시티 호텔에 5일 이상 머문 고객들의 국가분포와 비율을 살펴보았다.\n",
    "rh_stay_over5 = df_rh[df_rh['total_nights'] >= 5]['country']\n",
    "\n",
    "print(rh_stay_over5.value_counts()[0:5],'\\n')\n",
    "    # 1등 포르투갈\n",
    "    # 2등 영국 \n",
    "    # 3등 아일랜드\n",
    "    # 4등 이후 프랑스, 독일, 영국, 브라질, 이탈리아, ..etc \n",
    "    \n",
    "\n",
    "#비율\n",
    "rh_stay_O5_PRT = int(rh_stay_over5[rh_stay_over5 == 'PRT'].value_counts().values)\n",
    "rh_stay_O5_foreign = rh_stay_over5[rh_stay_over5 != 'PRT'].value_counts().sum()\n",
    "\n",
    "rh_stay_O5_total = rh_stay_O5_PRT + rh_stay_O5_foreign\n",
    "\n",
    "per_rh_stay_O5_PRT = round(rh_stay_O5_PRT / rh_stay_O5_total * 100 ,ndigits=2)\n",
    "per_rh_stay_O5_foreign = round(rh_stay_O5_foreign / rh_stay_O5_total * 100,ndigits=2)\n",
    "\n",
    "\n",
    "print('Percentage of portuguese Guests : ',per_rh_stay_O5_PRT)\n",
    "print('Percentage of foreign Guests : ',per_rh_stay_O5_foreign)\n",
    "\n",
    "    # 리조트 호텔에 5일 이상 머문 고객은\n",
    "        # 총 게스트의 내국인(포르투갈) 40.87퍼센트에 약 7%p 못 미치는 33.36%로 적지않은 차이를 보였다.\n",
    "            # 결과적으로 리조트에서 5일 이상의 장기투숙 케이스는 66.64%로 외국인 게스트가 유의미하게 많다는 사실을 보여준다.\n",
    "\n",
    "\n"
   ]
  },
  {
   "cell_type": "markdown",
   "metadata": {},
   "source": [
    "### **(4) 시티 호텔에 5일 이상 머문 고객들의 국가분포와 내외국인 비율**"
   ]
  },
  {
   "cell_type": "code",
   "execution_count": 19,
   "metadata": {},
   "outputs": [
    {
     "name": "stdout",
     "output_type": "stream",
     "text": [
      "PRT    2141\n",
      "FRA    1619\n",
      "DEU    1173\n",
      "GBR     857\n",
      "BRA     492\n",
      "Name: country, dtype: int64 \n",
      "\n",
      "Percentage of portuguese Guests :  20.66\n",
      "Percentage of foreign Guests :  79.34\n"
     ]
    }
   ],
   "source": [
    "# 시티 호텔에 총 5일 이상 머문 고객들의 국가분포와 비율을 살펴보았다.\n",
    "ch_stay_O5 = df_ch[df_ch['total_nights'] >= 5]['country']\n",
    "\n",
    "print(ch_stay_O5.value_counts()[0:5],'\\n')\n",
    "    # 1등 포르투갈\n",
    "    # 2등 영국 \n",
    "    # 3등 아일랜드\n",
    "    # 4등 이후 프랑스, 독일, 영국, 브라질, 이탈리아, ..etc \n",
    "    \n",
    "\n",
    "#비율\n",
    "ch_stay_O5_PRT = int(ch_stay_O5[ch_stay_O5 == 'PRT'].value_counts().values)\n",
    "ch_stay_O5_foreign = ch_stay_O5[ch_stay_O5 != 'PRT'].value_counts().sum()\n",
    "\n",
    "ch_stay_O5_total = ch_stay_O5_PRT + ch_stay_O5_foreign\n",
    "\n",
    "per_ch_stay_O5_PRT = round(ch_stay_O5_PRT / ch_stay_O5_total * 100 ,ndigits=2)\n",
    "per_ch_stay_O5_foreign = round(ch_stay_O5_foreign / ch_stay_O5_total * 100, ndigits=2)\n",
    "\n",
    "\n",
    "print('Percentage of portuguese Guests : ',per_ch_stay_O5_PRT)\n",
    "print('Percentage of foreign Guests : ',per_ch_stay_O5_foreign)\n",
    "\n",
    "    # 시티 호텔에 5일 이상 머문 고객의 내/외국인 비율은 리조트보다도 극적인 결과를 보여준다.\n",
    "        # 총 게스트의 내국인(포르투갈) 40.87퍼센트보다 훨씬 낮은 20.66%를 보였으며\n",
    "            # 결과적으로 시티호텔에서 5일 이상의 장기투숙 케이스는 79.34%로 외국인 게스트가 유의미하게 많다는 사실을 보여준다.\n",
    "            \n"
   ]
  },
  {
   "cell_type": "markdown",
   "metadata": {},
   "source": [
    "# Length of stay 내/외국인 비율 추가 분석 결과\n",
    "\n",
    "|유형|*내국고객*|*외국고객*|\n",
    "|------|------------|------------|\n",
    "|**총 데이터**|**40.87**|**59.13**|\n",
    "|------|------------------|------------------|\n",
    "|***시티   & 4일 이하***|*41.8*|*58.2*|\n",
    "|***시티   & 4일 초과***|*20.66*|*79.34*|\n",
    "|***리조트 & 4일 이하***|*51.42*|*48.58*|\n",
    "|***리조트 & 4일 초과***|*33.36*|*66.64*|\n",
    "\n",
    "\n",
    "분석 결과, 시티/리조트 호텔의 유형에 상관없이 4일 이하 / 초과 숙박 여부에 따른 내/외국인 비율은\n",
    "동일한 경향성으로 유의미한 차이를 보여줬다.\n",
    "  \n",
    "\n",
    "\n",
    "#### **추가 인사이트 : 시각화 : (투숙일 / 게스트 / 호텔유형 / 내-외국인) 네개의 feature를 효과적으로 보여줄 수 있는 그래프로 시각화**\n",
    "\n",
    "#### **추가 인사이트 : 국가별 게스트 시각화 by map**\n",
    "<br><br>\n",
    "\n"
   ]
  },
  {
   "cell_type": "code",
   "execution_count": 22,
   "metadata": {},
   "outputs": [
    {
     "name": "stderr",
     "output_type": "stream",
     "text": [
      "C:\\Users\\he125\\AppData\\Local\\Temp\\ipykernel_6284\\673889424.py:2: SettingWithCopyWarning: \n",
      "A value is trying to be set on a copy of a slice from a DataFrame.\n",
      "Try using .loc[row_indexer,col_indexer] = value instead\n",
      "\n",
      "See the caveats in the documentation: https://pandas.pydata.org/pandas-docs/stable/user_guide/indexing.html#returning-a-view-versus-a-copy\n",
      "  df_rh[\"total_nights\"] = df_rh[\"stays_in_weekend_nights\"] + df_rh[\"stays_in_week_nights\"]\n",
      "C:\\Users\\he125\\AppData\\Local\\Temp\\ipykernel_6284\\673889424.py:3: SettingWithCopyWarning: \n",
      "A value is trying to be set on a copy of a slice from a DataFrame.\n",
      "Try using .loc[row_indexer,col_indexer] = value instead\n",
      "\n",
      "See the caveats in the documentation: https://pandas.pydata.org/pandas-docs/stable/user_guide/indexing.html#returning-a-view-versus-a-copy\n",
      "  df_ch[\"total_nights\"] = df_ch[\"stays_in_weekend_nights\"] + df_ch[\"stays_in_week_nights\"]\n"
     ]
    },
    {
     "data": {
      "image/png": "[encoded data removed]",
      "text/plain": [
       "<Figure size 1080x720 with 1 Axes>"
      ]
     },
     "metadata": {},
     "output_type": "display_data"
    }
   ],
   "source": [
    "# Create a DateFrame with the relevant data:\n",
    "df_rh[\"total_nights\"] = df_rh[\"stays_in_weekend_nights\"] + df_rh[\"stays_in_week_nights\"]\n",
    "df_ch[\"total_nights\"] = df_ch[\"stays_in_weekend_nights\"] + df_ch[\"stays_in_week_nights\"]\n",
    "\n",
    "\n",
    "num_nights_res = list(df_rh[\"total_nights\"].value_counts().index)\n",
    "num_bookings_res = list(df_rh[\"total_nights\"].value_counts())\n",
    "rel_bookings_res = df_rh[\"total_nights\"].value_counts() / sum(num_bookings_res) * 100 # convert to percent\n",
    "\n",
    "res_nights = pd.DataFrame({\"hotel\": \"Resort hotel\",\n",
    "                           \"num_nights\": num_nights_res,\n",
    "                           \"rel_num_bookings\": rel_bookings_res})\n",
    "\n",
    "nights_data = pd.concat([res_nights, cty_nights], ignore_index=True)\n",
    "\n",
    "\n",
    "# Plotting\n",
    "fig = plt.figure(figsize=(15,10))\n",
    "\n",
    "ax1 = fig.add_subplot(1,1,1)\n",
    "\n",
    "# ## axes1\n",
    "# ax1.axvspan(0, 4.5, facecolor='green', alpha=0.7)\n",
    "# ax1.axvspan(4.5, 22, facecolor='yellow', alpha=0.7)\n",
    "# sns.set(style='white')\n",
    "# sns.barplot(x = \"num_nights\", y = \"rel_num_bookings\", \n",
    "#             hue=\"hotel\", data=nights_data,\n",
    "#             hue_order = [\"City hotel\", \"Resort hotel\"], ax = ax1)\n",
    "# ax1.set_xlim([0,15])\n",
    "# ax1.set_ylim([0,30])\n",
    "\n",
    "# ax1.grid()\n",
    "# ax1.margins(0) # remove default margins (matplotlib verision 2+)\n",
    "\n",
    "\n",
    "\n",
    "## axes2\n",
    "ax1.axvspan(0, 4.5, facecolor='green', alpha=0.7)\n",
    "ax1.axvspan(4.5, 22, facecolor='yellow', alpha=0.7)\n",
    "sns.set(style='white')\n",
    "sns.barplot(x = \"num_nights\", y = \"rel_num_bookings\", \n",
    "            hue=\"hotel\", data=nights_data,\n",
    "            hue_order = [\"City hotel\", \"Resort hotel\"], ax = ax1,\n",
    "            palette = ['#0086e6','#e6006b'])\n",
    "ax1.set_xlim([0,15])\n",
    "ax1.set_ylim([0,30])\n",
    "\n",
    "ax1.grid()\n",
    "ax1.margins(0) # remove default margins (matplotlib verision 2+)\n",
    "\n",
    "\n",
    "\n",
    "###\n",
    "plt.title(\"Length of stay\", fontsize=16)\n",
    "plt.xlabel(\"Number of nights\", fontsize=16)\n",
    "plt.ylabel(\"Guests [%]\", fontsize=16)\n",
    "plt.legend(loc=\"upper right\")\n",
    "\n",
    "plt.show()"
   ]
  },
  {
   "cell_type": "markdown",
   "metadata": {},
   "source": [
    "# 중요 스택그래프 진행중"
   ]
  },
  {
   "cell_type": "markdown",
   "metadata": {},
   "source": [
    "# 단순 카운트"
   ]
  },
  {
   "cell_type": "code",
   "execution_count": 34,
   "metadata": {},
   "outputs": [
    {
     "data": {
      "image/png": "[encoded data removed]",
      "text/plain": [
       "<Figure size 720x1800 with 1 Axes>"
      ]
     },
     "metadata": {},
     "output_type": "display_data"
    }
   ],
   "source": [
    "df = df_ht\n",
    "df.loc[df['country'] !='PRT', 'country'] ='foreign'\n",
    "\n",
    "  #\n",
    "df[\"total_nights\"] = df[\"stays_in_weekend_nights\"] + df[\"stays_in_week_nights\"]\n",
    "df = df[['country','total_nights']]\n",
    "\n",
    "'''\n",
    "'''\n",
    "grouped_df = df.groupby(['total_nights', 'country']\n",
    "                          ).size().reset_index(name=\"Count\")[0:22]\n",
    "\n",
    "'''\n",
    "'''\n",
    "\n",
    "'''X생성:\n",
    "    차트 x축을 담당할 total_nights에 존재하는 값을 유일하게 확인: set이용'''\n",
    "\n",
    "x_totalNights = grouped_df['total_nights'][::2].values\n",
    "\n",
    "'''PRT,foreign,s3 구성:\n",
    "    차트의 stacked bar를 구성할 값들'''\n",
    "\n",
    "s1_PRT = grouped_df['Count'][0::2].values\n",
    "s2_foreign = grouped_df['Count'][1::2].values  \n",
    "\n",
    "\n",
    "'''Setting colors'''\n",
    "colors = ['#00991f','#eca6fc']\n",
    "\n",
    "'''The position of the bars\n",
    "    on the x-axis'''\n",
    "r = range(len(x_totalNights))\n",
    "# barWidth = 1\n",
    "\n",
    "'''plot bars'''\n",
    "fig = plt.figure(figsize=(10,25))\n",
    "ax_back = fig.add_subplot(2,1,1)\n",
    "ax_back.axvspan(-0.5, 4.5, facecolor='#ede3c5', alpha=0.7)\n",
    "ax_back.axvspan(4.5, 20, facecolor='#a7e7e3', alpha=0.7)\n",
    "\n",
    "ax1 = plt.bar(r, s1_PRT, color=colors[0], edgecolor='white',\n",
    "            #   width=barWidth,\n",
    "              label=\"PRT\")\n",
    "ax2 = plt.bar(r, s2_foreign, bottom=np.array(s1_PRT), color=colors[1], edgecolor='white',\n",
    "            #   width=barWidth,\n",
    "              label='Foreign')\n",
    "\n",
    "\n",
    "plt.legend()\n",
    "\n",
    "# Custom X axis\n",
    "plt.xticks(r, x_totalNights, fontweight='bold')\n",
    "plt.xlabel('stay nights')\n",
    "plt.ylabel(\"counts\")\n",
    "\n",
    "ax_back.set_xlim([-0.5,11])\n",
    "ax_back.set_ylim([0,30000])\n",
    "\n",
    "'''###'''\n",
    "# fig = plt.figure(figsize=(19,20))\n",
    "# ax3 = fig.add_subplot(2,1,1)\n",
    "\n",
    "# # axes1\n",
    "# ax1.axvspan(0, 4.5, facecolor='green', alpha=0.7)\n",
    "# ax1.axvspan(4.5, 22, facecolor='yellow', alpha=0.7)\n",
    "'''###'''\n",
    "\n",
    "for r1, r2 in zip(ax1, ax2):\n",
    "    h1 = r1.get_height()\n",
    "    h2 = r2.get_height()\n",
    "    \n",
    "    plt.text(r1.get_x() + r1.get_width() / 2., h1 / 2., \"%d\" % h1, ha=\"center\", va=\"center\", color=\"white\", fontsize=14, fontweight=\"bold\")\n",
    "    plt.text(r2.get_x() + r2.get_width() / 2., h1 + h2 / 2., \"%d\" % h2, ha=\"center\", va=\"center\", color=\"black\", fontsize=14, fontweight=\"bold\")\n",
    "plt.show()"
   ]
  },
  {
   "cell_type": "markdown",
   "metadata": {},
   "source": [
    "# 비율"
   ]
  },
  {
   "cell_type": "code",
   "execution_count": 32,
   "metadata": {},
   "outputs": [
    {
     "name": "stdout",
     "output_type": "stream",
     "text": [
      "[83.07692308 55.74215033 50.90619687 37.19899542 28.47034459 25.68088386\n",
      " 32.51231527 28.36510687 30.49095607 29.84542212 24.84635645]\n",
      "[16.92307692 44.25784967 49.09380313 62.80100458 71.52965541 74.31911614\n",
      " 67.48768473 71.63489313 69.50904393 70.15457788 75.15364355]\n"
     ]
    },
    {
     "data": {
      "image/png": "[encoded data removed]",
      "text/plain": [
       "<Figure size 1080x720 with 1 Axes>"
      ]
     },
     "metadata": {},
     "output_type": "display_data"
    }
   ],
   "source": [
    "df = df_ht\n",
    "df.loc[df['country'] !='PRT', 'country'] ='foreign'\n",
    "\n",
    "  #\n",
    "df[\"total_nights\"] = df[\"stays_in_weekend_nights\"] + df[\"stays_in_week_nights\"]\n",
    "df = df[['country','total_nights']]\n",
    "\n",
    "'''\n",
    "'''\n",
    "grouped_df = df.groupby(['total_nights', 'country']\n",
    "                          ).size().reset_index(name=\"Count\")[0:22]\n",
    "\n",
    "'''\n",
    "'''\n",
    "\n",
    "'''X생성:\n",
    "    차트 x축을 담당할 total_nights에 존재하는 값을 유일하게 확인: set이용'''\n",
    "\n",
    "x_totalNights = grouped_df['total_nights'][::2].values \n",
    "\n",
    "'''PRT,foreign,s3 구성:\n",
    "    차트의 stacked bar를 구성할 값들'''\n",
    "\n",
    "s1_PRT = grouped_df['Count'][0::2].values\n",
    "s2_foreign = grouped_df['Count'][1::2].values  \n",
    "\n",
    "tot_s = s1_PRT + s2_foreign\n",
    "\n",
    "s1_ratio = s1_PRT / tot_s * 100\n",
    "s2_ratio = s2_foreign / tot_s * 100\n",
    "\n",
    "print(s1_ratio)\n",
    "print(s2_ratio)\n",
    "#####\n",
    "\n",
    "'''Setting colors'''\n",
    "colors = ['#00991f','#eca6fc']\n",
    "\n",
    "'''The position of the bars\n",
    "    on the x-axis'''\n",
    "r = range(len(x_totalNights))\n",
    "# barWidth = 1\n",
    "\n",
    "'''plot bars'''\n",
    "fig = plt.figure(figsize=(15,10))\n",
    "ax_back = fig.add_subplot(2,1,1)\n",
    "ax_back.axvspan(-0.5, 4.5, facecolor='#ede3c5', alpha=0.7)\n",
    "ax_back.axvspan(4.5, 20, facecolor='#a7e7e3', alpha=0.7)\n",
    "\n",
    "ax1 = plt.bar(r, s1_ratio, color=colors[0], edgecolor='white',\n",
    "            #   width=barWidth,\n",
    "              label=\"PRT\")\n",
    "ax2 = plt.bar(r, s2_ratio, bottom=np.array(s1_ratio), color=colors[1], edgecolor='white',\n",
    "            #   width=barWidth,\n",
    "              label='Foreign')\n",
    "\n",
    "\n",
    "plt.legend()\n",
    "\n",
    "# Custom X axis\n",
    "plt.xticks(r, x_totalNights, fontweight='bold')\n",
    "plt.xlabel('stay nights')\n",
    "plt.ylabel(\"percentage_counts\")\n",
    "\n",
    "ax_back.set_xlim([-0.5,11])\n",
    "ax_back.set_ylim([0,100])\n",
    "\n",
    "'''###'''\n",
    "# fig = plt.figure(figsize=(19,20))\n",
    "# ax3 = fig.add_subplot(2,1,1)\n",
    "\n",
    "# # axes1\n",
    "# ax1.axvspan(0, 4.5, facecolor='green', alpha=0.7)\n",
    "# ax1.axvspan(4.5, 22, facecolor='yellow', alpha=0.7)\n",
    "'''###'''\n",
    "\n",
    "for r1, r2 in zip(ax1, ax2):\n",
    "    h1 = r1.get_height()\n",
    "    h2 = r2.get_height()\n",
    "    \n",
    "    plt.text(r1.get_x() + r1.get_width() / 2., h1 / 2., \"%d\" % h1, ha=\"center\", va=\"center\", color=\"white\", fontsize=14, fontweight=\"bold\")\n",
    "    plt.text(r2.get_x() + r2.get_width() / 2., h1 + h2 / 2., \"%d\" % h2, ha=\"center\", va=\"center\", color=\"black\", fontsize=14, fontweight=\"bold\")\n",
    "plt.show()"
   ]
  },
  {
   "cell_type": "code",
   "execution_count": null,
   "metadata": {},
   "outputs": [
    {
     "data": {
      "text/html": [
       "<div>\n",
       "<style scoped>\n",
       "    .dataframe tbody tr th:only-of-type {\n",
       "        vertical-align: middle;\n",
       "    }\n",
       "\n",
       "    .dataframe tbody tr th {\n",
       "        vertical-align: top;\n",
       "    }\n",
       "\n",
       "    .dataframe thead th {\n",
       "        text-align: right;\n",
       "    }\n",
       "</style>\n",
       "<table border=\"1\" class=\"dataframe\">\n",
       "  <thead>\n",
       "    <tr style=\"text-align: right;\">\n",
       "      <th></th>\n",
       "      <th>total_bill</th>\n",
       "      <th>tip</th>\n",
       "      <th>sex</th>\n",
       "      <th>smoker</th>\n",
       "      <th>day</th>\n",
       "      <th>time</th>\n",
       "      <th>size</th>\n",
       "    </tr>\n",
       "  </thead>\n",
       "  <tbody>\n",
       "    <tr>\n",
       "      <th>0</th>\n",
       "      <td>16.99</td>\n",
       "      <td>1.01</td>\n",
       "      <td>Female</td>\n",
       "      <td>No</td>\n",
       "      <td>Sun</td>\n",
       "      <td>Dinner</td>\n",
       "      <td>2</td>\n",
       "    </tr>\n",
       "    <tr>\n",
       "      <th>1</th>\n",
       "      <td>10.34</td>\n",
       "      <td>1.66</td>\n",
       "      <td>Male</td>\n",
       "      <td>No</td>\n",
       "      <td>Sun</td>\n",
       "      <td>Dinner</td>\n",
       "      <td>3</td>\n",
       "    </tr>\n",
       "    <tr>\n",
       "      <th>2</th>\n",
       "      <td>21.01</td>\n",
       "      <td>3.50</td>\n",
       "      <td>Male</td>\n",
       "      <td>No</td>\n",
       "      <td>Sun</td>\n",
       "      <td>Dinner</td>\n",
       "      <td>3</td>\n",
       "    </tr>\n",
       "    <tr>\n",
       "      <th>3</th>\n",
       "      <td>23.68</td>\n",
       "      <td>3.31</td>\n",
       "      <td>Male</td>\n",
       "      <td>No</td>\n",
       "      <td>Sun</td>\n",
       "      <td>Dinner</td>\n",
       "      <td>2</td>\n",
       "    </tr>\n",
       "    <tr>\n",
       "      <th>4</th>\n",
       "      <td>24.59</td>\n",
       "      <td>3.61</td>\n",
       "      <td>Female</td>\n",
       "      <td>No</td>\n",
       "      <td>Sun</td>\n",
       "      <td>Dinner</td>\n",
       "      <td>4</td>\n",
       "    </tr>\n",
       "  </tbody>\n",
       "</table>\n",
       "</div>"
      ],
      "text/plain": [
       "   total_bill   tip     sex smoker  day    time  size\n",
       "0       16.99  1.01  Female     No  Sun  Dinner     2\n",
       "1       10.34  1.66    Male     No  Sun  Dinner     3\n",
       "2       21.01  3.50    Male     No  Sun  Dinner     3\n",
       "3       23.68  3.31    Male     No  Sun  Dinner     2\n",
       "4       24.59  3.61  Female     No  Sun  Dinner     4"
      ]
     },
     "execution_count": 30,
     "metadata": {},
     "output_type": "execute_result"
    }
   ],
   "source": [
    "# STACKED BAR PLOT 만드는 법 \n",
    "# import libraries\n",
    "import seaborn as sns\n",
    "import numpy as np\n",
    "import matplotlib.pyplot as plt\n",
    "import matplotlib.patches as mpatches\n",
    "\n",
    "# load dataset\n",
    "tips = sns.load_dataset(\"tips\")\n",
    "\n",
    "tips.head()"
   ]
  },
  {
   "cell_type": "markdown",
   "metadata": {},
   "source": [
    "# 전처리 제안"
   ]
  },
  {
   "cell_type": "code",
   "execution_count": null,
   "metadata": {},
   "outputs": [
    {
     "data": {
      "text/plain": [
       "children        4\n",
       "agent       10997\n",
       "company     44085\n",
       "dtype: int64"
      ]
     },
     "execution_count": 31,
     "metadata": {},
     "output_type": "execute_result"
    }
   ],
   "source": [
    "# null값 0 이상인 컬럼\n",
    "df_ht.isnull().sum()[df_ht.isnull().sum() > 0]\n",
    "\n",
    "    # 1. children, country는 결측 레코드를 제외하는 것으로 처리한다.\n",
    "    # 2. agent는 필요에 따라 컬럼을 제외하는 등의 방안을 고려한다 -> 논의 필요\n",
    "    # 3. company 컬럼은 총 119390 레코드 중 112593개의 결측값을 가지고 있으므로 company 컬럼은 제외하는것이 바람직하다."
   ]
  },
  {
   "cell_type": "markdown",
   "metadata": {},
   "source": [
    "# 시계열 분석"
   ]
  },
  {
   "cell_type": "markdown",
   "metadata": {},
   "source": [
    "# 시계열 분석"
   ]
  },
  {
   "cell_type": "markdown",
   "metadata": {},
   "source": [
    "# 위치기반 분석"
   ]
  },
  {
   "cell_type": "code",
   "execution_count": null,
   "metadata": {},
   "outputs": [],
   "source": []
  }
 ],
 "metadata": {
  "interpreter": {
   "hash": "ea928f5d67c4c93314bde902f9925b00b35f33a7a7fd46f2f8b2a0108e4de065"
  },
  "kernelspec": {
   "display_name": "Python 3.10.2 64-bit",
   "language": "python",
   "name": "python3"
  },
  "language_info": {
   "codemirror_mode": {
    "name": "ipython",
    "version": 3
   },
   "file_extension": ".py",
   "mimetype": "text/x-python",
   "name": "python",
   "nbconvert_exporter": "python",
   "pygments_lexer": "ipython3",
   "version": "3.10.2"
  },
  "orig_nbformat": 4
 },
 "nbformat": 4,
 "nbformat_minor": 2
}
