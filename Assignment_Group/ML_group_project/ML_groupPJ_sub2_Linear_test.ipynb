{
 "cells": [
  {
   "cell_type": "markdown",
   "metadata": {},
   "source": [
    "# 다중 회귀분석\n",
    "\n",
    "### 중요 타겟 변수1 : adr 변수에 대한 설명\n",
    "\n",
    "모든 숙박 거래의 합계를 총 숙박 일수로 나누어 정의한 평균 일일 요금 \n",
    "<br> -> 마케팅 타겟 선정 주요 요소\n",
    "\n",
    "Average Daily Rate as defined by dividing the sum of all lodging transactions by the total number of staying nights\n",
    "\n",
    "  #### 파생 가능 주제 : \n",
    "  \n",
    "  1. 어떤 속성이 adr와 유의미한 상관관계를 가지는가? (해당 노트북에서 실시) <br>\n",
    "       \n",
    "       고민 : 숙박인원 수에 비례하는데 이를 어떻게 배제하지? <br> \n",
    "        => 일일 사용지출을 총 숙박인원으로 나눠서 새로운 파생변수 생성? \n",
    "  \n",
    "    - 고려할 만한 컬럼 : meal(예약한 식사유형), country, babies, children, adults,...\n",
    "    - 고려할 만한 분석기법 : EDA, 다중 선형회귀, "
   ]
  },
  {
   "cell_type": "code",
   "execution_count": 84,
   "metadata": {},
   "outputs": [],
   "source": [
    "import pandas as pd\n",
    "import numpy as np\n",
    "import matplotlib.pyplot as plt"
   ]
  },
  {
   "cell_type": "code",
   "execution_count": 85,
   "metadata": {},
   "outputs": [
    {
     "name": "stdout",
     "output_type": "stream",
     "text": [
      "<class 'pandas.core.frame.DataFrame'>\n",
      "RangeIndex: 119390 entries, 0 to 119389\n",
      "Data columns (total 32 columns):\n",
      " #   Column                          Non-Null Count   Dtype  \n",
      "---  ------                          --------------   -----  \n",
      " 0   hotel                           119390 non-null  object \n",
      " 1   is_canceled                     119390 non-null  int64  \n",
      " 2   lead_time                       119390 non-null  int64  \n",
      " 3   arrival_date_year               119390 non-null  int64  \n",
      " 4   arrival_date_month              119390 non-null  object \n",
      " 5   arrival_date_week_number        119390 non-null  int64  \n",
      " 6   arrival_date_day_of_month       119390 non-null  int64  \n",
      " 7   stays_in_weekend_nights         119390 non-null  int64  \n",
      " 8   stays_in_week_nights            119390 non-null  int64  \n",
      " 9   adults                          119390 non-null  int64  \n",
      " 10  children                        119386 non-null  float64\n",
      " 11  babies                          119390 non-null  int64  \n",
      " 12  meal                            119390 non-null  object \n",
      " 13  country                         118902 non-null  object \n",
      " 14  market_segment                  119390 non-null  object \n",
      " 15  distribution_channel            119390 non-null  object \n",
      " 16  is_repeated_guest               119390 non-null  int64  \n",
      " 17  previous_cancellations          119390 non-null  int64  \n",
      " 18  previous_bookings_not_canceled  119390 non-null  int64  \n",
      " 19  reserved_room_type              119390 non-null  object \n",
      " 20  assigned_room_type              119390 non-null  object \n",
      " 21  booking_changes                 119390 non-null  int64  \n",
      " 22  deposit_type                    119390 non-null  object \n",
      " 23  agent                           103050 non-null  float64\n",
      " 24  company                         6797 non-null    float64\n",
      " 25  days_in_waiting_list            119390 non-null  int64  \n",
      " 26  customer_type                   119390 non-null  object \n",
      " 27  adr                             119390 non-null  float64\n",
      " 28  required_car_parking_spaces     119390 non-null  int64  \n",
      " 29  total_of_special_requests       119390 non-null  int64  \n",
      " 30  reservation_status              119390 non-null  object \n",
      " 31  reservation_status_date         119390 non-null  object \n",
      "dtypes: float64(4), int64(16), object(12)\n",
      "memory usage: 29.1+ MB\n"
     ]
    }
   ],
   "source": [
    "df_ht = pd.read_csv('hotel_bookings.csv')\n",
    "df_ht.info()"
   ]
  },
  {
   "cell_type": "markdown",
   "metadata": {},
   "source": [
    "### 전처리 : 불필요 컬럼 제거"
   ]
  },
  {
   "cell_type": "code",
   "execution_count": 86,
   "metadata": {},
   "outputs": [
    {
     "data": {
      "text/html": [
       "<div>\n",
       "<style scoped>\n",
       "    .dataframe tbody tr th:only-of-type {\n",
       "        vertical-align: middle;\n",
       "    }\n",
       "\n",
       "    .dataframe tbody tr th {\n",
       "        vertical-align: top;\n",
       "    }\n",
       "\n",
       "    .dataframe thead th {\n",
       "        text-align: right;\n",
       "    }\n",
       "</style>\n",
       "<table border=\"1\" class=\"dataframe\">\n",
       "  <thead>\n",
       "    <tr style=\"text-align: right;\">\n",
       "      <th></th>\n",
       "      <th>hotel</th>\n",
       "      <th>is_canceled</th>\n",
       "      <th>lead_time</th>\n",
       "      <th>stays_in_weekend_nights</th>\n",
       "      <th>stays_in_week_nights</th>\n",
       "      <th>adults</th>\n",
       "      <th>children</th>\n",
       "      <th>babies</th>\n",
       "      <th>meal</th>\n",
       "      <th>country</th>\n",
       "      <th>...</th>\n",
       "      <th>previous_bookings_not_canceled</th>\n",
       "      <th>reserved_room_type</th>\n",
       "      <th>assigned_room_type</th>\n",
       "      <th>booking_changes</th>\n",
       "      <th>deposit_type</th>\n",
       "      <th>days_in_waiting_list</th>\n",
       "      <th>customer_type</th>\n",
       "      <th>adr</th>\n",
       "      <th>required_car_parking_spaces</th>\n",
       "      <th>total_of_special_requests</th>\n",
       "    </tr>\n",
       "  </thead>\n",
       "  <tbody>\n",
       "    <tr>\n",
       "      <th>0</th>\n",
       "      <td>Resort Hotel</td>\n",
       "      <td>0</td>\n",
       "      <td>342</td>\n",
       "      <td>0</td>\n",
       "      <td>0</td>\n",
       "      <td>2</td>\n",
       "      <td>0.0</td>\n",
       "      <td>0</td>\n",
       "      <td>BB</td>\n",
       "      <td>PRT</td>\n",
       "      <td>...</td>\n",
       "      <td>0</td>\n",
       "      <td>C</td>\n",
       "      <td>C</td>\n",
       "      <td>3</td>\n",
       "      <td>No Deposit</td>\n",
       "      <td>0</td>\n",
       "      <td>Transient</td>\n",
       "      <td>0.0</td>\n",
       "      <td>0</td>\n",
       "      <td>0</td>\n",
       "    </tr>\n",
       "    <tr>\n",
       "      <th>1</th>\n",
       "      <td>Resort Hotel</td>\n",
       "      <td>0</td>\n",
       "      <td>737</td>\n",
       "      <td>0</td>\n",
       "      <td>0</td>\n",
       "      <td>2</td>\n",
       "      <td>0.0</td>\n",
       "      <td>0</td>\n",
       "      <td>BB</td>\n",
       "      <td>PRT</td>\n",
       "      <td>...</td>\n",
       "      <td>0</td>\n",
       "      <td>C</td>\n",
       "      <td>C</td>\n",
       "      <td>4</td>\n",
       "      <td>No Deposit</td>\n",
       "      <td>0</td>\n",
       "      <td>Transient</td>\n",
       "      <td>0.0</td>\n",
       "      <td>0</td>\n",
       "      <td>0</td>\n",
       "    </tr>\n",
       "    <tr>\n",
       "      <th>2</th>\n",
       "      <td>Resort Hotel</td>\n",
       "      <td>0</td>\n",
       "      <td>7</td>\n",
       "      <td>0</td>\n",
       "      <td>1</td>\n",
       "      <td>1</td>\n",
       "      <td>0.0</td>\n",
       "      <td>0</td>\n",
       "      <td>BB</td>\n",
       "      <td>GBR</td>\n",
       "      <td>...</td>\n",
       "      <td>0</td>\n",
       "      <td>A</td>\n",
       "      <td>C</td>\n",
       "      <td>0</td>\n",
       "      <td>No Deposit</td>\n",
       "      <td>0</td>\n",
       "      <td>Transient</td>\n",
       "      <td>75.0</td>\n",
       "      <td>0</td>\n",
       "      <td>0</td>\n",
       "    </tr>\n",
       "    <tr>\n",
       "      <th>3</th>\n",
       "      <td>Resort Hotel</td>\n",
       "      <td>0</td>\n",
       "      <td>13</td>\n",
       "      <td>0</td>\n",
       "      <td>1</td>\n",
       "      <td>1</td>\n",
       "      <td>0.0</td>\n",
       "      <td>0</td>\n",
       "      <td>BB</td>\n",
       "      <td>GBR</td>\n",
       "      <td>...</td>\n",
       "      <td>0</td>\n",
       "      <td>A</td>\n",
       "      <td>A</td>\n",
       "      <td>0</td>\n",
       "      <td>No Deposit</td>\n",
       "      <td>0</td>\n",
       "      <td>Transient</td>\n",
       "      <td>75.0</td>\n",
       "      <td>0</td>\n",
       "      <td>0</td>\n",
       "    </tr>\n",
       "    <tr>\n",
       "      <th>4</th>\n",
       "      <td>Resort Hotel</td>\n",
       "      <td>0</td>\n",
       "      <td>14</td>\n",
       "      <td>0</td>\n",
       "      <td>2</td>\n",
       "      <td>2</td>\n",
       "      <td>0.0</td>\n",
       "      <td>0</td>\n",
       "      <td>BB</td>\n",
       "      <td>GBR</td>\n",
       "      <td>...</td>\n",
       "      <td>0</td>\n",
       "      <td>A</td>\n",
       "      <td>A</td>\n",
       "      <td>0</td>\n",
       "      <td>No Deposit</td>\n",
       "      <td>0</td>\n",
       "      <td>Transient</td>\n",
       "      <td>98.0</td>\n",
       "      <td>0</td>\n",
       "      <td>1</td>\n",
       "    </tr>\n",
       "  </tbody>\n",
       "</table>\n",
       "<p>5 rows × 24 columns</p>\n",
       "</div>"
      ],
      "text/plain": [
       "          hotel  is_canceled  lead_time  stays_in_weekend_nights  \\\n",
       "0  Resort Hotel            0        342                        0   \n",
       "1  Resort Hotel            0        737                        0   \n",
       "2  Resort Hotel            0          7                        0   \n",
       "3  Resort Hotel            0         13                        0   \n",
       "4  Resort Hotel            0         14                        0   \n",
       "\n",
       "   stays_in_week_nights  adults  children  babies meal country  ...  \\\n",
       "0                     0       2       0.0       0   BB     PRT  ...   \n",
       "1                     0       2       0.0       0   BB     PRT  ...   \n",
       "2                     1       1       0.0       0   BB     GBR  ...   \n",
       "3                     1       1       0.0       0   BB     GBR  ...   \n",
       "4                     2       2       0.0       0   BB     GBR  ...   \n",
       "\n",
       "  previous_bookings_not_canceled reserved_room_type  assigned_room_type  \\\n",
       "0                              0                  C                   C   \n",
       "1                              0                  C                   C   \n",
       "2                              0                  A                   C   \n",
       "3                              0                  A                   A   \n",
       "4                              0                  A                   A   \n",
       "\n",
       "   booking_changes  deposit_type days_in_waiting_list customer_type   adr  \\\n",
       "0                3    No Deposit                    0     Transient   0.0   \n",
       "1                4    No Deposit                    0     Transient   0.0   \n",
       "2                0    No Deposit                    0     Transient  75.0   \n",
       "3                0    No Deposit                    0     Transient  75.0   \n",
       "4                0    No Deposit                    0     Transient  98.0   \n",
       "\n",
       "  required_car_parking_spaces  total_of_special_requests  \n",
       "0                           0                          0  \n",
       "1                           0                          0  \n",
       "2                           0                          0  \n",
       "3                           0                          0  \n",
       "4                           0                          1  \n",
       "\n",
       "[5 rows x 24 columns]"
      ]
     },
     "execution_count": 86,
     "metadata": {},
     "output_type": "execute_result"
    }
   ],
   "source": [
    "df_ht_lr = df_ht.drop(['arrival_date_year','arrival_date_month','arrival_date_week_number','arrival_date_day_of_month','agent','company','reservation_status_date','reservation_status'], axis = 1)\n",
    "\n",
    "df_ht_lr.head()"
   ]
  },
  {
   "cell_type": "markdown",
   "metadata": {},
   "source": [
    "### 전처리 : Null 제거"
   ]
  },
  {
   "cell_type": "code",
   "execution_count": 87,
   "metadata": {},
   "outputs": [
    {
     "data": {
      "text/html": [
       "<div>\n",
       "<style scoped>\n",
       "    .dataframe tbody tr th:only-of-type {\n",
       "        vertical-align: middle;\n",
       "    }\n",
       "\n",
       "    .dataframe tbody tr th {\n",
       "        vertical-align: top;\n",
       "    }\n",
       "\n",
       "    .dataframe thead th {\n",
       "        text-align: right;\n",
       "    }\n",
       "</style>\n",
       "<table border=\"1\" class=\"dataframe\">\n",
       "  <thead>\n",
       "    <tr style=\"text-align: right;\">\n",
       "      <th></th>\n",
       "      <th>is_canceled</th>\n",
       "      <th>lead_time</th>\n",
       "      <th>stays_in_weekend_nights</th>\n",
       "      <th>stays_in_week_nights</th>\n",
       "      <th>adults</th>\n",
       "      <th>children</th>\n",
       "      <th>babies</th>\n",
       "      <th>is_repeated_guest</th>\n",
       "      <th>previous_cancellations</th>\n",
       "      <th>previous_bookings_not_canceled</th>\n",
       "      <th>booking_changes</th>\n",
       "      <th>days_in_waiting_list</th>\n",
       "      <th>adr</th>\n",
       "      <th>required_car_parking_spaces</th>\n",
       "      <th>total_of_special_requests</th>\n",
       "    </tr>\n",
       "  </thead>\n",
       "  <tbody>\n",
       "    <tr>\n",
       "      <th>count</th>\n",
       "      <td>118898.000000</td>\n",
       "      <td>118898.000000</td>\n",
       "      <td>118898.000000</td>\n",
       "      <td>118898.000000</td>\n",
       "      <td>118898.000000</td>\n",
       "      <td>118898.000000</td>\n",
       "      <td>118898.000000</td>\n",
       "      <td>118898.000000</td>\n",
       "      <td>118898.000000</td>\n",
       "      <td>118898.000000</td>\n",
       "      <td>118898.000000</td>\n",
       "      <td>118898.000000</td>\n",
       "      <td>118898.000000</td>\n",
       "      <td>118898.000000</td>\n",
       "      <td>118898.000000</td>\n",
       "    </tr>\n",
       "    <tr>\n",
       "      <th>mean</th>\n",
       "      <td>0.371352</td>\n",
       "      <td>104.311435</td>\n",
       "      <td>0.928897</td>\n",
       "      <td>2.502145</td>\n",
       "      <td>1.858391</td>\n",
       "      <td>0.104207</td>\n",
       "      <td>0.007948</td>\n",
       "      <td>0.032011</td>\n",
       "      <td>0.087142</td>\n",
       "      <td>0.131634</td>\n",
       "      <td>0.221181</td>\n",
       "      <td>2.330754</td>\n",
       "      <td>102.003243</td>\n",
       "      <td>0.061885</td>\n",
       "      <td>0.571683</td>\n",
       "    </tr>\n",
       "    <tr>\n",
       "      <th>std</th>\n",
       "      <td>0.483168</td>\n",
       "      <td>106.903309</td>\n",
       "      <td>0.996216</td>\n",
       "      <td>1.900168</td>\n",
       "      <td>0.578576</td>\n",
       "      <td>0.399172</td>\n",
       "      <td>0.097380</td>\n",
       "      <td>0.176029</td>\n",
       "      <td>0.845869</td>\n",
       "      <td>1.484672</td>\n",
       "      <td>0.652785</td>\n",
       "      <td>17.630452</td>\n",
       "      <td>50.485862</td>\n",
       "      <td>0.244172</td>\n",
       "      <td>0.792678</td>\n",
       "    </tr>\n",
       "    <tr>\n",
       "      <th>min</th>\n",
       "      <td>0.000000</td>\n",
       "      <td>0.000000</td>\n",
       "      <td>0.000000</td>\n",
       "      <td>0.000000</td>\n",
       "      <td>0.000000</td>\n",
       "      <td>0.000000</td>\n",
       "      <td>0.000000</td>\n",
       "      <td>0.000000</td>\n",
       "      <td>0.000000</td>\n",
       "      <td>0.000000</td>\n",
       "      <td>0.000000</td>\n",
       "      <td>0.000000</td>\n",
       "      <td>-6.380000</td>\n",
       "      <td>0.000000</td>\n",
       "      <td>0.000000</td>\n",
       "    </tr>\n",
       "    <tr>\n",
       "      <th>25%</th>\n",
       "      <td>0.000000</td>\n",
       "      <td>18.000000</td>\n",
       "      <td>0.000000</td>\n",
       "      <td>1.000000</td>\n",
       "      <td>2.000000</td>\n",
       "      <td>0.000000</td>\n",
       "      <td>0.000000</td>\n",
       "      <td>0.000000</td>\n",
       "      <td>0.000000</td>\n",
       "      <td>0.000000</td>\n",
       "      <td>0.000000</td>\n",
       "      <td>0.000000</td>\n",
       "      <td>70.000000</td>\n",
       "      <td>0.000000</td>\n",
       "      <td>0.000000</td>\n",
       "    </tr>\n",
       "    <tr>\n",
       "      <th>50%</th>\n",
       "      <td>0.000000</td>\n",
       "      <td>69.000000</td>\n",
       "      <td>1.000000</td>\n",
       "      <td>2.000000</td>\n",
       "      <td>2.000000</td>\n",
       "      <td>0.000000</td>\n",
       "      <td>0.000000</td>\n",
       "      <td>0.000000</td>\n",
       "      <td>0.000000</td>\n",
       "      <td>0.000000</td>\n",
       "      <td>0.000000</td>\n",
       "      <td>0.000000</td>\n",
       "      <td>95.000000</td>\n",
       "      <td>0.000000</td>\n",
       "      <td>0.000000</td>\n",
       "    </tr>\n",
       "    <tr>\n",
       "      <th>75%</th>\n",
       "      <td>1.000000</td>\n",
       "      <td>161.000000</td>\n",
       "      <td>2.000000</td>\n",
       "      <td>3.000000</td>\n",
       "      <td>2.000000</td>\n",
       "      <td>0.000000</td>\n",
       "      <td>0.000000</td>\n",
       "      <td>0.000000</td>\n",
       "      <td>0.000000</td>\n",
       "      <td>0.000000</td>\n",
       "      <td>0.000000</td>\n",
       "      <td>0.000000</td>\n",
       "      <td>126.000000</td>\n",
       "      <td>0.000000</td>\n",
       "      <td>1.000000</td>\n",
       "    </tr>\n",
       "    <tr>\n",
       "      <th>max</th>\n",
       "      <td>1.000000</td>\n",
       "      <td>737.000000</td>\n",
       "      <td>16.000000</td>\n",
       "      <td>41.000000</td>\n",
       "      <td>55.000000</td>\n",
       "      <td>10.000000</td>\n",
       "      <td>10.000000</td>\n",
       "      <td>1.000000</td>\n",
       "      <td>26.000000</td>\n",
       "      <td>72.000000</td>\n",
       "      <td>21.000000</td>\n",
       "      <td>391.000000</td>\n",
       "      <td>5400.000000</td>\n",
       "      <td>8.000000</td>\n",
       "      <td>5.000000</td>\n",
       "    </tr>\n",
       "  </tbody>\n",
       "</table>\n",
       "</div>"
      ],
      "text/plain": [
       "         is_canceled      lead_time  stays_in_weekend_nights  \\\n",
       "count  118898.000000  118898.000000            118898.000000   \n",
       "mean        0.371352     104.311435                 0.928897   \n",
       "std         0.483168     106.903309                 0.996216   \n",
       "min         0.000000       0.000000                 0.000000   \n",
       "25%         0.000000      18.000000                 0.000000   \n",
       "50%         0.000000      69.000000                 1.000000   \n",
       "75%         1.000000     161.000000                 2.000000   \n",
       "max         1.000000     737.000000                16.000000   \n",
       "\n",
       "       stays_in_week_nights         adults       children         babies  \\\n",
       "count         118898.000000  118898.000000  118898.000000  118898.000000   \n",
       "mean               2.502145       1.858391       0.104207       0.007948   \n",
       "std                1.900168       0.578576       0.399172       0.097380   \n",
       "min                0.000000       0.000000       0.000000       0.000000   \n",
       "25%                1.000000       2.000000       0.000000       0.000000   \n",
       "50%                2.000000       2.000000       0.000000       0.000000   \n",
       "75%                3.000000       2.000000       0.000000       0.000000   \n",
       "max               41.000000      55.000000      10.000000      10.000000   \n",
       "\n",
       "       is_repeated_guest  previous_cancellations  \\\n",
       "count      118898.000000           118898.000000   \n",
       "mean            0.032011                0.087142   \n",
       "std             0.176029                0.845869   \n",
       "min             0.000000                0.000000   \n",
       "25%             0.000000                0.000000   \n",
       "50%             0.000000                0.000000   \n",
       "75%             0.000000                0.000000   \n",
       "max             1.000000               26.000000   \n",
       "\n",
       "       previous_bookings_not_canceled  booking_changes  days_in_waiting_list  \\\n",
       "count                   118898.000000    118898.000000         118898.000000   \n",
       "mean                         0.131634         0.221181              2.330754   \n",
       "std                          1.484672         0.652785             17.630452   \n",
       "min                          0.000000         0.000000              0.000000   \n",
       "25%                          0.000000         0.000000              0.000000   \n",
       "50%                          0.000000         0.000000              0.000000   \n",
       "75%                          0.000000         0.000000              0.000000   \n",
       "max                         72.000000        21.000000            391.000000   \n",
       "\n",
       "                 adr  required_car_parking_spaces  total_of_special_requests  \n",
       "count  118898.000000                118898.000000              118898.000000  \n",
       "mean      102.003243                     0.061885                   0.571683  \n",
       "std        50.485862                     0.244172                   0.792678  \n",
       "min        -6.380000                     0.000000                   0.000000  \n",
       "25%        70.000000                     0.000000                   0.000000  \n",
       "50%        95.000000                     0.000000                   0.000000  \n",
       "75%       126.000000                     0.000000                   1.000000  \n",
       "max      5400.000000                     8.000000                   5.000000  "
      ]
     },
     "execution_count": 87,
     "metadata": {},
     "output_type": "execute_result"
    }
   ],
   "source": [
    "df_ht_lr = df_ht_lr.dropna()\n",
    "\n",
    "df_ht_lr.describe()"
   ]
  },
  {
   "cell_type": "markdown",
   "metadata": {},
   "source": [
    "#### 전처리 : 취소한 경우 지출액과 관련한 타 변수 의미없어지므로 is_canceled 1인 경우 제거"
   ]
  },
  {
   "cell_type": "code",
   "execution_count": 88,
   "metadata": {},
   "outputs": [],
   "source": [
    "\n",
    "df_ht_lr = df_ht_lr[df_ht_lr['is_canceled'] == 0]"
   ]
  },
  {
   "cell_type": "markdown",
   "metadata": {},
   "source": [
    "## adr 변수 탐색 : 박스플롯\n",
    "\n",
    "탐색결과 선보고 : 성인, 아이, 아기 숫자 모두 adr와 양의 상관관계를 갖는다\n",
    "\n",
    "- 시사점 : adr를 인원으로 나눈 파생변수를 만들어서 활용해야 인원 수에 영향을 받지 않는 분석 가능\n",
    "\n",
    "\n",
    "- 주의 : 아이, 아기 의 박스플롯을 살펴보면 0명인 경우 adr의 이상치가 높게 많이 분포해있음을 알 수 있는데, 이는 아기를 아예 데려오지 않았을 경우 큰 단위의 소비의 가능성이 높아질 수 있다는 점을 시사한다. (주의: 아이를 데려오지 않았을 경우 부부가 아닐 확률이 높으므로, 더 많은 성인 인원이 존재할 수 있다는 점을 내포하고 있을 수도 있음)"
   ]
  },
  {
   "cell_type": "markdown",
   "metadata": {},
   "source": [
    "#### Adults 숫자 별 adr 분포\n",
    "\n",
    "    - 전처리 시사점 : 5 명 이상 성인은 이상값으로 처리"
   ]
  },
  {
   "cell_type": "code",
   "execution_count": 89,
   "metadata": {},
   "outputs": [
    {
     "data": {
      "image/png": "[encoded data removed]",
      "text/plain": [
       "<Figure size 432x288 with 1 Axes>"
      ]
     },
     "metadata": {
      "needs_background": "light"
     },
     "output_type": "display_data"
    }
   ],
   "source": [
    "import seaborn as sns\n",
    "y = df_ht_lr[df_ht_lr['adr'] < 4000] # 이상값 adr 4000이상 제거\n",
    "# y_adults5under = y[y['adults'] < 5] # 이상값 adults 5명 이상 제거\n",
    "sns.boxplot(data=y, x='adults',y='adr') # \n",
    "plt.show()"
   ]
  },
  {
   "cell_type": "markdown",
   "metadata": {},
   "source": [
    "#### children 숫자 별 adr 분포"
   ]
  },
  {
   "cell_type": "code",
   "execution_count": 90,
   "metadata": {},
   "outputs": [
    {
     "data": {
      "image/png": "[encoded data removed]",
      "text/plain": [
       "<Figure size 432x288 with 1 Axes>"
      ]
     },
     "metadata": {
      "needs_background": "light"
     },
     "output_type": "display_data"
    }
   ],
   "source": [
    "import seaborn as sns\n",
    "y = df_ht_lr[df_ht_lr['adr'] < 4000] # 이상값 5000이상 제거\n",
    "y_child10under = y[y['children'] < 10] # 이상값 5000이상 제거\n",
    "sns.boxplot(data=y_child10under, x='children',y='adr') # \n",
    "plt.show()"
   ]
  },
  {
   "cell_type": "markdown",
   "metadata": {},
   "source": [
    "#### babies 숫자 별 adr 분포"
   ]
  },
  {
   "cell_type": "code",
   "execution_count": 91,
   "metadata": {},
   "outputs": [
    {
     "data": {
      "image/png": "[encoded data removed]",
      "text/plain": [
       "<Figure size 432x288 with 1 Axes>"
      ]
     },
     "metadata": {
      "needs_background": "light"
     },
     "output_type": "display_data"
    }
   ],
   "source": [
    "import seaborn as sns\n",
    "y = df_ht_lr[df_ht_lr['adr'] < 4000] # 이상값 5000이상 제거\n",
    "y_babies9under = y[y['babies'] < 9] # 이상값 아기 9 이상 제거\n",
    "sns.boxplot(data=y_babies9under, x='babies',y='adr') # \n",
    "plt.show()"
   ]
  },
  {
   "cell_type": "markdown",
   "metadata": {},
   "source": [
    "### 박스플롯 시사점에 따른 추가전처리 : \n",
    "\n",
    "시나리오1 (일단 이 시나리오 수행)\n",
    "\n",
    "1. 5명 이상 성인 이상값으로 간주하여 제거\n",
    "2. 1인당 adr 파생변수 추가\n",
    "\n",
    "---\n",
    "시나리오2\n",
    "\n",
    "아이동반, 아기동반, 아이/아기 무동반 총 세개의 카테고리 할당한 파생변수 생성 \n",
    "\n",
    "<br><br>"
   ]
  },
  {
   "cell_type": "code",
   "execution_count": 92,
   "metadata": {},
   "outputs": [],
   "source": [
    "#1\n",
    "df_ht_lrp = df_ht_lr[df_ht_lr['adults'] < 5]\n",
    "\n",
    "#+ 2 수행을 위한 총 인원변수 추가\n",
    "    #+ 10인 이상의 이상값 제거\n",
    "df_ht_lrp['total_guests'] = df_ht_lr['adults'] + df_ht_lr['babies'] + df_ht_lr['children']\n",
    "df_ht_lrp = df_ht_lrp[df_ht_lrp['total_guests'] < 10]\n",
    "#2\n",
    "df_ht_lrp['adr_1'] = df_ht_lrp['adr'] // df_ht_lrp['total_guests']\n",
    "\n",
    "    #2+\n",
    "df_ht_lrp = df_ht_lrp.replace([np.inf, -np.inf], np.nan)\n",
    "df_ht_lrp = df_ht_lrp.dropna()\n",
    "\n",
    "\n",
    "#3 adr_1 이 0보다 작거나 같은 경우, 무의미한 데이터로 간주하여 삭제한다. & 400이상인 경우 이상치로 간주하여 제거\n",
    "df_ht_lrp = df_ht_lrp[df_ht_lrp['adr_1'] > 0]\n",
    "df_ht_lrp = df_ht_lrp[df_ht_lrp['adr_1'] < 400]\n",
    "\n",
    "sns.boxenplot(data=df_ht_lrp, y='adr_1')"
   ]
  },
  {
   "cell_type": "markdown",
   "metadata": {},
   "source": [
    "boxenplot 으로 살펴본 결과 숙박인 1인당 숙박일 1일 50달러의 평균 일일 숙박거래 요금을 지불한다."
   ]
  },
  {
   "cell_type": "markdown",
   "metadata": {},
   "source": [
    "## (중요?) 박스플롯 : 한 팀의 숙박인원이 많아질수록 투숙객 1인당 1일 평균 지출액이 적어진다?\n",
    "-> 한명이 머무를 경우 혼자서 방의 비용을 모두 부담하므로 1인 1일 평균 가격이 높아지는것은 당연한 이치이다 그리고 어차피 방 하나에 투숙객 한명이 머물든, 그 이상이 머물든 호텔 입장에선 비용이 크게 바뀌는 것이 아니므로 아래의 결과가 크게 유의미 할지는 의문 -> 사실관계를 좀더 면밀히 따져볼 필요 있을듯.\n",
    "\n",
    "**but 무의미하다고 치부하기엔, 1인,2인의 경우 이상치 값이 예상보다 더 높게, 많이 분포해 있으므로 1인~2인의 투숙객이 전체적으로 높은 가격을 지불하고 있을 수 있다는 가능성 내포.\n",
    "=> 연인의 경우 단체투숙객보다 더 씀씀이가 클 가능성**\n"
   ]
  },
  {
   "cell_type": "code",
   "execution_count": 93,
   "metadata": {},
   "outputs": [
    {
     "data": {
      "image/png": "[encoded data removed]",
      "text/plain": [
       "<Figure size 432x288 with 1 Axes>"
      ]
     },
     "metadata": {
      "needs_background": "light"
     },
     "output_type": "display_data"
    }
   ],
   "source": [
    "#1\n",
    "df_temp = df_ht_lrp[df_ht_lrp['adr_1'] < 500]\n",
    "sns.boxplot(data= df_temp,x='total_guests',y='adr_1')\n",
    "plt.show()"
   ]
  },
  {
   "cell_type": "markdown",
   "metadata": {},
   "source": [
    "# Linear Regression 수행\n",
    "\n",
    "adr_1(1인당 1일 평균 adr)를 dependant variable로 다중 선형 회귀분석 실시"
   ]
  },
  {
   "cell_type": "markdown",
   "metadata": {},
   "source": [
    "#### 추가 전처리 : 불필요 컬럼 제거"
   ]
  },
  {
   "cell_type": "code",
   "execution_count": 94,
   "metadata": {},
   "outputs": [
    {
     "name": "stdout",
     "output_type": "stream",
     "text": [
      "<class 'pandas.core.frame.DataFrame'>\n",
      "Int64Index: 74588 entries, 0 to 119389\n",
      "Data columns (total 26 columns):\n",
      " #   Column                          Non-Null Count  Dtype  \n",
      "---  ------                          --------------  -----  \n",
      " 0   hotel                           74588 non-null  object \n",
      " 1   is_canceled                     74588 non-null  int64  \n",
      " 2   lead_time                       74588 non-null  int64  \n",
      " 3   stays_in_weekend_nights         74588 non-null  int64  \n",
      " 4   stays_in_week_nights            74588 non-null  int64  \n",
      " 5   adults                          74588 non-null  int64  \n",
      " 6   children                        74588 non-null  float64\n",
      " 7   babies                          74588 non-null  int64  \n",
      " 8   meal                            74588 non-null  object \n",
      " 9   country                         74588 non-null  object \n",
      " 10  market_segment                  74588 non-null  object \n",
      " 11  distribution_channel            74588 non-null  object \n",
      " 12  is_repeated_guest               74588 non-null  int64  \n",
      " 13  previous_cancellations          74588 non-null  int64  \n",
      " 14  previous_bookings_not_canceled  74588 non-null  int64  \n",
      " 15  reserved_room_type              74588 non-null  object \n",
      " 16  assigned_room_type              74588 non-null  object \n",
      " 17  booking_changes                 74588 non-null  int64  \n",
      " 18  deposit_type                    74588 non-null  object \n",
      " 19  days_in_waiting_list            74588 non-null  int64  \n",
      " 20  customer_type                   74588 non-null  object \n",
      " 21  adr                             74588 non-null  float64\n",
      " 22  required_car_parking_spaces     74588 non-null  int64  \n",
      " 23  total_of_special_requests       74588 non-null  int64  \n",
      " 24  total_guests                    74588 non-null  float64\n",
      " 25  adr_1                           74588 non-null  float64\n",
      "dtypes: float64(4), int64(13), object(9)\n",
      "memory usage: 15.4+ MB\n"
     ]
    }
   ],
   "source": [
    "df_ht_lrp.info()\n",
    "df_ht_lrp_mid = df_ht_lrp.iloc[:,[0,1,2,3,4,5,6,7,8,9,10,11,12,13,14,15,16,17,18,19,20,21,22,23,24]]"
   ]
  },
  {
   "cell_type": "code",
   "execution_count": 95,
   "metadata": {},
   "outputs": [
    {
     "name": "stdout",
     "output_type": "stream",
     "text": [
      "<class 'pandas.core.frame.DataFrame'>\n",
      "Int64Index: 74588 entries, 0 to 119389\n",
      "Data columns (total 25 columns):\n",
      " #   Column                          Non-Null Count  Dtype  \n",
      "---  ------                          --------------  -----  \n",
      " 0   hotel                           74588 non-null  object \n",
      " 1   is_canceled                     74588 non-null  int64  \n",
      " 2   lead_time                       74588 non-null  int64  \n",
      " 3   stays_in_weekend_nights         74588 non-null  int64  \n",
      " 4   stays_in_week_nights            74588 non-null  int64  \n",
      " 5   adults                          74588 non-null  int64  \n",
      " 6   children                        74588 non-null  float64\n",
      " 7   babies                          74588 non-null  int64  \n",
      " 8   meal                            74588 non-null  object \n",
      " 9   country                         74588 non-null  object \n",
      " 10  market_segment                  74588 non-null  object \n",
      " 11  distribution_channel            74588 non-null  object \n",
      " 12  is_repeated_guest               74588 non-null  int64  \n",
      " 13  previous_cancellations          74588 non-null  int64  \n",
      " 14  previous_bookings_not_canceled  74588 non-null  int64  \n",
      " 15  reserved_room_type              74588 non-null  object \n",
      " 16  assigned_room_type              74588 non-null  object \n",
      " 17  booking_changes                 74588 non-null  int64  \n",
      " 18  deposit_type                    74588 non-null  object \n",
      " 19  days_in_waiting_list            74588 non-null  int64  \n",
      " 20  customer_type                   74588 non-null  object \n",
      " 21  adr                             74588 non-null  float64\n",
      " 22  required_car_parking_spaces     74588 non-null  int64  \n",
      " 23  total_of_special_requests       74588 non-null  int64  \n",
      " 24  total_guests                    74588 non-null  float64\n",
      "dtypes: float64(3), int64(13), object(9)\n",
      "memory usage: 14.8+ MB\n"
     ]
    }
   ],
   "source": [
    "df_ht_lrp_mid.info()"
   ]
  },
  {
   "cell_type": "markdown",
   "metadata": {},
   "source": [
    "# 더미변수 생성"
   ]
  },
  {
   "cell_type": "markdown",
   "metadata": {},
   "source": [
    "### 1.country는 너무 많으므로 주요 국가들을 대상으로만 진행"
   ]
  },
  {
   "cell_type": "code",
   "execution_count": 96,
   "metadata": {},
   "outputs": [],
   "source": [
    "# 주요 국가 선정\n",
    "\n",
    "    # 국가코드 CN을 CHN으로 값 변경\n",
    "# plt.figure(figsize=(100,20))\n",
    "\n",
    "\n",
    "# df_ht_lrp_mid['country'] = df_ht_lrp_mid['country'].replace('CN','CHN')\n",
    "\n",
    "# df_ht_lrp_mid.groupby('country')['country'].count().sort_values(ascending=False).head(20)\n",
    "\n",
    "# # count 1000 이하 국가 모두 otherCountries로 값 변경\n",
    "# df_ht_lrp_mid.groupby('country')['country'].count()\n",
    "\n",
    "# df_ht_lrp_mid.loc[df_ht_lrp_mid['country'] != 'PRT' or 'GBR', 'country'] = 'otherCountries'\n",
    "\n",
    "# sns.boxplot(data = df_ht_lrp_mid, x='country', y='adr_1')\n",
    "    "
   ]
  },
  {
   "cell_type": "markdown",
   "metadata": {},
   "source": [
    "### 2.더미 생성"
   ]
  },
  {
   "cell_type": "code",
   "execution_count": 97,
   "metadata": {},
   "outputs": [
    {
     "name": "stdout",
     "output_type": "stream",
     "text": [
      "<class 'pandas.core.frame.DataFrame'>\n",
      "Int64Index: 74588 entries, 0 to 119389\n",
      "Columns: 312 entries, is_canceled to customer_type_Transient-Party\n",
      "dtypes: float64(3), int64(9), uint8(300)\n",
      "memory usage: 28.7 MB\n"
     ]
    }
   ],
   "source": [
    "# df_ht_lrp_fin = df_ht_lrp_mid.drop('country',axis=1)\n",
    "\n",
    "# 더미화\n",
    "df_lrp_fin = pd.get_dummies(data=df_ht_lrp_mid, columns=['hotel','country','is_repeated_guest','previous_cancellations','previous_bookings_not_canceled','booking_changes','deposit_type','meal','market_segment','distribution_channel','reserved_room_type','assigned_room_type','customer_type'],drop_first=True)\n",
    "\n",
    "df_lrp_fin.info()"
   ]
  },
  {
   "cell_type": "markdown",
   "metadata": {},
   "source": [
    "## Train Test셋 스플리팅"
   ]
  },
  {
   "cell_type": "code",
   "execution_count": 98,
   "metadata": {},
   "outputs": [],
   "source": [
    "from sklearn.model_selection import train_test_split\n",
    "X = df_lrp_fin.drop('adr',axis=1)\n",
    "y = df_lrp_fin['adr']\n",
    "\n",
    "X_train, X_test, y_train, y_test = train_test_split(X, \n",
    "                                                    y,\n",
    "                                                    test_size=0.3, \n",
    "                                                    random_state=101)"
   ]
  },
  {
   "cell_type": "markdown",
   "metadata": {},
   "source": [
    "## Train and predict"
   ]
  },
  {
   "cell_type": "code",
   "execution_count": 99,
   "metadata": {},
   "outputs": [
    {
     "data": {
      "text/plain": [
       "LinearRegression()"
      ]
     },
     "execution_count": 99,
     "metadata": {},
     "output_type": "execute_result"
    }
   ],
   "source": [
    "from sklearn.linear_model import LinearRegression\n",
    "\n",
    "lm = LinearRegression()\n",
    "\n",
    "lm.fit(X_train,y_train)"
   ]
  },
  {
   "cell_type": "code",
   "execution_count": 100,
   "metadata": {
    "colab": {
     "base_uri": "https://localhost:8080/"
    },
    "executionInfo": {
     "elapsed": 10,
     "status": "ok",
     "timestamp": 1648785316853,
     "user": {
      "displayName": "Tae Hun Kim",
      "userId": "12980879845177070345"
     },
     "user_tz": -540
    },
    "id": "a45zScpdbpij",
    "outputId": "5619fbf9-8e86-4162-800f-9cdfdc224e4c"
   },
   "outputs": [
    {
     "name": "stdout",
     "output_type": "stream",
     "text": [
      "57.0821600659395\n"
     ]
    }
   ],
   "source": [
    "# print the intercept\n",
    "print(lm.intercept_)"
   ]
  },
  {
   "cell_type": "code",
   "execution_count": 101,
   "metadata": {
    "colab": {
     "base_uri": "https://localhost:8080/",
     "height": 206
    },
    "executionInfo": {
     "elapsed": 9,
     "status": "ok",
     "timestamp": 1648785316853,
     "user": {
      "displayName": "Tae Hun Kim",
      "userId": "12980879845177070345"
     },
     "user_tz": -540
    },
    "id": "SNPYzjE1bpij",
    "outputId": "d0b8ffb2-d583-4ffd-e64f-3987463280af"
   },
   "outputs": [
    {
     "data": {
      "text/html": [
       "<div>\n",
       "<style scoped>\n",
       "    .dataframe tbody tr th:only-of-type {\n",
       "        vertical-align: middle;\n",
       "    }\n",
       "\n",
       "    .dataframe tbody tr th {\n",
       "        vertical-align: top;\n",
       "    }\n",
       "\n",
       "    .dataframe thead th {\n",
       "        text-align: right;\n",
       "    }\n",
       "</style>\n",
       "<table border=\"1\" class=\"dataframe\">\n",
       "  <thead>\n",
       "    <tr style=\"text-align: right;\">\n",
       "      <th></th>\n",
       "      <th>Coefficient</th>\n",
       "    </tr>\n",
       "  </thead>\n",
       "  <tbody>\n",
       "    <tr>\n",
       "      <th>total_guests</th>\n",
       "      <td>2.092119e+11</td>\n",
       "    </tr>\n",
       "    <tr>\n",
       "      <th>previous_cancellations_6</th>\n",
       "      <td>3.311344e+06</td>\n",
       "    </tr>\n",
       "    <tr>\n",
       "      <th>country_DJI</th>\n",
       "      <td>1.906650e+06</td>\n",
       "    </tr>\n",
       "    <tr>\n",
       "      <th>is_canceled</th>\n",
       "      <td>1.031144e+06</td>\n",
       "    </tr>\n",
       "    <tr>\n",
       "      <th>country_NAM</th>\n",
       "      <td>2.962681e+05</td>\n",
       "    </tr>\n",
       "    <tr>\n",
       "      <th>...</th>\n",
       "      <td>...</td>\n",
       "    </tr>\n",
       "    <tr>\n",
       "      <th>country_BHS</th>\n",
       "      <td>-1.546251e+08</td>\n",
       "    </tr>\n",
       "    <tr>\n",
       "      <th>country_BHR</th>\n",
       "      <td>-2.553776e+08</td>\n",
       "    </tr>\n",
       "    <tr>\n",
       "      <th>children</th>\n",
       "      <td>-2.092119e+11</td>\n",
       "    </tr>\n",
       "    <tr>\n",
       "      <th>adults</th>\n",
       "      <td>-2.092119e+11</td>\n",
       "    </tr>\n",
       "    <tr>\n",
       "      <th>babies</th>\n",
       "      <td>-2.092119e+11</td>\n",
       "    </tr>\n",
       "  </tbody>\n",
       "</table>\n",
       "<p>311 rows × 1 columns</p>\n",
       "</div>"
      ],
      "text/plain": [
       "                           Coefficient\n",
       "total_guests              2.092119e+11\n",
       "previous_cancellations_6  3.311344e+06\n",
       "country_DJI               1.906650e+06\n",
       "is_canceled               1.031144e+06\n",
       "country_NAM               2.962681e+05\n",
       "...                                ...\n",
       "country_BHS              -1.546251e+08\n",
       "country_BHR              -2.553776e+08\n",
       "children                 -2.092119e+11\n",
       "adults                   -2.092119e+11\n",
       "babies                   -2.092119e+11\n",
       "\n",
       "[311 rows x 1 columns]"
      ]
     },
     "execution_count": 101,
     "metadata": {},
     "output_type": "execute_result"
    }
   ],
   "source": [
    "# lm.coef_\n",
    "# X.columns\n",
    "coeff_df = pd.DataFrame(lm.coef_, X.columns,columns=['Coefficient'])\n",
    "coeff_df.sort_values(by='Coefficient', ascending=False)"
   ]
  },
  {
   "cell_type": "markdown",
   "metadata": {},
   "source": [
    "위의 결과로 미루어보건대 **룸타입과 음식타입은 거래금액에 직접적으로 포함되어 당연하게 양의 상관관계를 강하게 가지므로, 제외하고 다시 상관관계를 알아보자**\n",
    "\n",
    "\n",
    "알아낸 것은 타입이 무엇이 되었든 adr에 가장 큰 영향을 주는 것 두가지는 룸 타입과 음식타입 이라는 것 -> 그 외의 부가 서비스 소득이 저조하다는 뜻 -> 새로운 비즈니스 모델 개발을 필요로 할 수도 있으려나? : 해석하기 나름일듯"
   ]
  },
  {
   "cell_type": "code",
   "execution_count": 102,
   "metadata": {},
   "outputs": [],
   "source": [
    "# predict\n",
    "\n",
    "predictions = lm.predict(X_test)"
   ]
  },
  {
   "cell_type": "code",
   "execution_count": 103,
   "metadata": {},
   "outputs": [
    {
     "data": {
      "image/png": "[encoded data removed]",
      "text/plain": [
       "<Figure size 432x288 with 1 Axes>"
      ]
     },
     "metadata": {
      "needs_background": "light"
     },
     "output_type": "display_data"
    }
   ],
   "source": [
    "plt.scatter(x=y_test,y=predictions, c='crimson')\n",
    "\n",
    "\n",
    "plt.plot(range(400), range(400))\n",
    "\n",
    "plt.show()\n",
    "\n",
    "\n",
    "## compare the actual price with the predicted one in the test set"
   ]
  },
  {
   "cell_type": "code",
   "execution_count": 104,
   "metadata": {},
   "outputs": [
    {
     "data": {
      "text/plain": [
       "<seaborn.axisgrid.FacetGrid at 0x1de8c430fd0>"
      ]
     },
     "execution_count": 104,
     "metadata": {},
     "output_type": "execute_result"
    },
    {
     "data": {
      "image/png": "[encoded data removed]",
      "text/plain": [
       "<Figure size 360x360 with 1 Axes>"
      ]
     },
     "metadata": {
      "needs_background": "light"
     },
     "output_type": "display_data"
    }
   ],
   "source": [
    "sns.displot((y_test-predictions),bins=30)"
   ]
  },
  {
   "cell_type": "markdown",
   "metadata": {},
   "source": [
    "### 모델 재설계"
   ]
  },
  {
   "cell_type": "code",
   "execution_count": 105,
   "metadata": {},
   "outputs": [
    {
     "name": "stdout",
     "output_type": "stream",
     "text": [
      "<class 'pandas.core.frame.DataFrame'>\n",
      "Int64Index: 74588 entries, 0 to 119389\n",
      "Columns: 291 entries, is_canceled to customer_type_Transient-Party\n",
      "dtypes: float64(3), int64(9), uint8(279)\n",
      "memory usage: 27.2 MB\n"
     ]
    }
   ],
   "source": [
    "df_ht_lrp_fin2 = df_ht_lrp_mid.drop(['meal','reserved_room_type','assigned_room_type'],axis=1)\n",
    "\n",
    "# 더미화\n",
    "df_lrp_fin2 = pd.get_dummies(data=df_ht_lrp_fin2, columns=['country','hotel','is_repeated_guest','previous_cancellations','previous_bookings_not_canceled','booking_changes','deposit_type','market_segment','distribution_channel','customer_type'],drop_first=True)\n",
    "\n",
    "df_lrp_fin2.info()"
   ]
  },
  {
   "cell_type": "markdown",
   "metadata": {},
   "source": [
    "## Train Test셋 스플리팅"
   ]
  },
  {
   "cell_type": "code",
   "execution_count": 106,
   "metadata": {},
   "outputs": [],
   "source": [
    "from sklearn.model_selection import train_test_split\n",
    "X = df_lrp_fin2.drop('adr',axis=1)\n",
    "y = df_lrp_fin2['adr']\n",
    "\n",
    "\n",
    "X_train, X_test, y_train, y_test = train_test_split(X, \n",
    "                                                    y,\n",
    "                                                    test_size=0.30, \n",
    "                                                    random_state=101)"
   ]
  },
  {
   "cell_type": "markdown",
   "metadata": {},
   "source": [
    "## Train and predict"
   ]
  },
  {
   "cell_type": "code",
   "execution_count": 107,
   "metadata": {},
   "outputs": [
    {
     "data": {
      "text/plain": [
       "LinearRegression()"
      ]
     },
     "execution_count": 107,
     "metadata": {},
     "output_type": "execute_result"
    }
   ],
   "source": [
    "lm2 = LinearRegression()\n",
    "\n",
    "lm2.fit(X_train,y_train)"
   ]
  },
  {
   "cell_type": "code",
   "execution_count": 108,
   "metadata": {
    "colab": {
     "base_uri": "https://localhost:8080/"
    },
    "executionInfo": {
     "elapsed": 10,
     "status": "ok",
     "timestamp": 1648785316853,
     "user": {
      "displayName": "Tae Hun Kim",
      "userId": "12980879845177070345"
     },
     "user_tz": -540
    },
    "id": "a45zScpdbpij",
    "outputId": "5619fbf9-8e86-4162-800f-9cdfdc224e4c"
   },
   "outputs": [
    {
     "name": "stdout",
     "output_type": "stream",
     "text": [
      "86.5711934416344\n"
     ]
    }
   ],
   "source": [
    "# print the intercept\n",
    "print(lm2.intercept_)"
   ]
  },
  {
   "cell_type": "code",
   "execution_count": 109,
   "metadata": {
    "colab": {
     "base_uri": "https://localhost:8080/",
     "height": 206
    },
    "executionInfo": {
     "elapsed": 9,
     "status": "ok",
     "timestamp": 1648785316853,
     "user": {
      "displayName": "Tae Hun Kim",
      "userId": "12980879845177070345"
     },
     "user_tz": -540
    },
    "id": "SNPYzjE1bpij",
    "outputId": "d0b8ffb2-d583-4ffd-e64f-3987463280af"
   },
   "outputs": [
    {
     "data": {
      "text/html": [
       "<div>\n",
       "<style scoped>\n",
       "    .dataframe tbody tr th:only-of-type {\n",
       "        vertical-align: middle;\n",
       "    }\n",
       "\n",
       "    .dataframe tbody tr th {\n",
       "        vertical-align: top;\n",
       "    }\n",
       "\n",
       "    .dataframe thead th {\n",
       "        text-align: right;\n",
       "    }\n",
       "</style>\n",
       "<table border=\"1\" class=\"dataframe\">\n",
       "  <thead>\n",
       "    <tr style=\"text-align: right;\">\n",
       "      <th></th>\n",
       "      <th>Coefficient</th>\n",
       "    </tr>\n",
       "  </thead>\n",
       "  <tbody>\n",
       "    <tr>\n",
       "      <th>total_guests</th>\n",
       "      <td>1.463295e+11</td>\n",
       "    </tr>\n",
       "    <tr>\n",
       "      <th>country_BHR</th>\n",
       "      <td>4.002691e+09</td>\n",
       "    </tr>\n",
       "    <tr>\n",
       "      <th>country_DJI</th>\n",
       "      <td>2.677014e+09</td>\n",
       "    </tr>\n",
       "    <tr>\n",
       "      <th>country_NAM</th>\n",
       "      <td>1.048144e+09</td>\n",
       "    </tr>\n",
       "    <tr>\n",
       "      <th>country_FRO</th>\n",
       "      <td>3.702553e+08</td>\n",
       "    </tr>\n",
       "    <tr>\n",
       "      <th>...</th>\n",
       "      <td>...</td>\n",
       "    </tr>\n",
       "    <tr>\n",
       "      <th>country_NPL</th>\n",
       "      <td>-7.629652e+08</td>\n",
       "    </tr>\n",
       "    <tr>\n",
       "      <th>country_BHS</th>\n",
       "      <td>-5.322689e+09</td>\n",
       "    </tr>\n",
       "    <tr>\n",
       "      <th>children</th>\n",
       "      <td>-1.463295e+11</td>\n",
       "    </tr>\n",
       "    <tr>\n",
       "      <th>adults</th>\n",
       "      <td>-1.463295e+11</td>\n",
       "    </tr>\n",
       "    <tr>\n",
       "      <th>babies</th>\n",
       "      <td>-1.463295e+11</td>\n",
       "    </tr>\n",
       "  </tbody>\n",
       "</table>\n",
       "<p>290 rows × 1 columns</p>\n",
       "</div>"
      ],
      "text/plain": [
       "               Coefficient\n",
       "total_guests  1.463295e+11\n",
       "country_BHR   4.002691e+09\n",
       "country_DJI   2.677014e+09\n",
       "country_NAM   1.048144e+09\n",
       "country_FRO   3.702553e+08\n",
       "...                    ...\n",
       "country_NPL  -7.629652e+08\n",
       "country_BHS  -5.322689e+09\n",
       "children     -1.463295e+11\n",
       "adults       -1.463295e+11\n",
       "babies       -1.463295e+11\n",
       "\n",
       "[290 rows x 1 columns]"
      ]
     },
     "execution_count": 109,
     "metadata": {},
     "output_type": "execute_result"
    }
   ],
   "source": [
    "# lm.coef_\n",
    "# X.columns\n",
    "coeff_df = pd.DataFrame(lm2.coef_, X.columns,columns=['Coefficient'])\n",
    "coeff_df.sort_values(by='Coefficient', ascending=False)"
   ]
  },
  {
   "cell_type": "markdown",
   "metadata": {},
   "source": [
    "### **주목할만한 X features**\n",
    "\n",
    "\n",
    "#### positive\n",
    "- distribution_channel_GDS\t: GDS(global distribution System) 채널을 이용한 경우 adr_1(1인당 1일 숙박 거래 평균액)와 강한 양의 상관관계(strong positive)를 보임\n",
    "- required_car_parking_spaces\t6.476939 : 주차 시설을 요구여부와 adr_1은 유의미한 양의 상관관계를 보임\n",
    "- customer_type_Transient-Party\t3.696549 : Transient party(일시 손님)의 경우 약한 양의 상관관계를 보임, T-P용어 (https://roompricegenie.com/transient-market-segment/) 참고\n",
    "- distribution_channel_Direct\t2.040817 : 직접 예약한 고객의 경우 adr_1과 약한 양의 상관관계를 보임\n",
    "- total_of_special_requests\t1.939848 : special requests 수는 adr_1과 약한 양의 상관관계를 보임\n",
    "\n",
    "#### negative\n",
    "- distribution_channel_TA/TO\t-0.426742\n",
    "- customer_type_Group\t-1.375537\n",
    "- children\t-8.058935\n",
    "- is_repeated_guest\t-9.970661\n",
    "- hotel_Resort Hotel\t-12.257093\n",
    "- distribution_channel_Undefined\t-13.374510\n",
    "- babies\t-14.249427\n",
    "- market_segment_Direct\t-19.322259\n",
    "- market_segment_Online TA\t-20.964940\n",
    "- adults\t-23.033196\n",
    "- market_segment_Corporate\t-30.898506\n",
    "- market_segment_Offline TA/TO\t-32.354459\n",
    "- market_segment_Groups\t-35.039839\n",
    "- market_segment_Complementary\t-84.172634\n",
    "\n",
    "\n",
    "\n"
   ]
  },
  {
   "cell_type": "code",
   "execution_count": 110,
   "metadata": {},
   "outputs": [],
   "source": [
    "# predict\n",
    "\n",
    "predictions = lm2.predict(X_test)"
   ]
  },
  {
   "cell_type": "code",
   "execution_count": 111,
   "metadata": {},
   "outputs": [
    {
     "data": {
      "image/png": "[encoded data removed]",
      "text/plain": [
       "<Figure size 432x288 with 1 Axes>"
      ]
     },
     "metadata": {
      "needs_background": "light"
     },
     "output_type": "display_data"
    }
   ],
   "source": [
    "plt.scatter(x=y_test,y=predictions, c='crimson')\n",
    "\n",
    "\n",
    "plt.plot(range(400), range(400))\n",
    "\n",
    "plt.show()\n",
    "\n",
    "\n",
    "## compare the actual price with the predicted one in the test set"
   ]
  },
  {
   "cell_type": "code",
   "execution_count": 112,
   "metadata": {},
   "outputs": [
    {
     "data": {
      "text/html": [
       "<div>\n",
       "<style scoped>\n",
       "    .dataframe tbody tr th:only-of-type {\n",
       "        vertical-align: middle;\n",
       "    }\n",
       "\n",
       "    .dataframe tbody tr th {\n",
       "        vertical-align: top;\n",
       "    }\n",
       "\n",
       "    .dataframe thead th {\n",
       "        text-align: right;\n",
       "    }\n",
       "</style>\n",
       "<table border=\"1\" class=\"dataframe\">\n",
       "  <thead>\n",
       "    <tr style=\"text-align: right;\">\n",
       "      <th></th>\n",
       "      <th>adr</th>\n",
       "      <th>Predictions</th>\n",
       "    </tr>\n",
       "  </thead>\n",
       "  <tbody>\n",
       "    <tr>\n",
       "      <th>20876</th>\n",
       "      <td>55.00</td>\n",
       "      <td>94.854511</td>\n",
       "    </tr>\n",
       "    <tr>\n",
       "      <th>108077</th>\n",
       "      <td>95.00</td>\n",
       "      <td>93.726013</td>\n",
       "    </tr>\n",
       "    <tr>\n",
       "      <th>118559</th>\n",
       "      <td>198.00</td>\n",
       "      <td>170.288219</td>\n",
       "    </tr>\n",
       "    <tr>\n",
       "      <th>110290</th>\n",
       "      <td>99.25</td>\n",
       "      <td>128.985634</td>\n",
       "    </tr>\n",
       "    <tr>\n",
       "      <th>39853</th>\n",
       "      <td>123.50</td>\n",
       "      <td>70.330387</td>\n",
       "    </tr>\n",
       "    <tr>\n",
       "      <th>100196</th>\n",
       "      <td>115.00</td>\n",
       "      <td>94.515194</td>\n",
       "    </tr>\n",
       "    <tr>\n",
       "      <th>19276</th>\n",
       "      <td>43.00</td>\n",
       "      <td>109.984720</td>\n",
       "    </tr>\n",
       "    <tr>\n",
       "      <th>119161</th>\n",
       "      <td>99.00</td>\n",
       "      <td>128.934231</td>\n",
       "    </tr>\n",
       "    <tr>\n",
       "      <th>4069</th>\n",
       "      <td>94.50</td>\n",
       "      <td>106.469733</td>\n",
       "    </tr>\n",
       "    <tr>\n",
       "      <th>32547</th>\n",
       "      <td>55.00</td>\n",
       "      <td>100.639031</td>\n",
       "    </tr>\n",
       "    <tr>\n",
       "      <th>91683</th>\n",
       "      <td>109.00</td>\n",
       "      <td>113.310724</td>\n",
       "    </tr>\n",
       "    <tr>\n",
       "      <th>22576</th>\n",
       "      <td>57.00</td>\n",
       "      <td>106.509280</td>\n",
       "    </tr>\n",
       "    <tr>\n",
       "      <th>21110</th>\n",
       "      <td>50.00</td>\n",
       "      <td>105.439380</td>\n",
       "    </tr>\n",
       "    <tr>\n",
       "      <th>109243</th>\n",
       "      <td>153.00</td>\n",
       "      <td>109.788971</td>\n",
       "    </tr>\n",
       "    <tr>\n",
       "      <th>15285</th>\n",
       "      <td>38.50</td>\n",
       "      <td>56.478058</td>\n",
       "    </tr>\n",
       "    <tr>\n",
       "      <th>114688</th>\n",
       "      <td>162.00</td>\n",
       "      <td>132.389129</td>\n",
       "    </tr>\n",
       "    <tr>\n",
       "      <th>37563</th>\n",
       "      <td>56.70</td>\n",
       "      <td>81.709320</td>\n",
       "    </tr>\n",
       "    <tr>\n",
       "      <th>36185</th>\n",
       "      <td>81.00</td>\n",
       "      <td>74.513946</td>\n",
       "    </tr>\n",
       "    <tr>\n",
       "      <th>100680</th>\n",
       "      <td>192.59</td>\n",
       "      <td>176.600921</td>\n",
       "    </tr>\n",
       "    <tr>\n",
       "      <th>91434</th>\n",
       "      <td>141.00</td>\n",
       "      <td>112.478578</td>\n",
       "    </tr>\n",
       "  </tbody>\n",
       "</table>\n",
       "</div>"
      ],
      "text/plain": [
       "           adr  Predictions\n",
       "20876    55.00    94.854511\n",
       "108077   95.00    93.726013\n",
       "118559  198.00   170.288219\n",
       "110290   99.25   128.985634\n",
       "39853   123.50    70.330387\n",
       "100196  115.00    94.515194\n",
       "19276    43.00   109.984720\n",
       "119161   99.00   128.934231\n",
       "4069     94.50   106.469733\n",
       "32547    55.00   100.639031\n",
       "91683   109.00   113.310724\n",
       "22576    57.00   106.509280\n",
       "21110    50.00   105.439380\n",
       "109243  153.00   109.788971\n",
       "15285    38.50    56.478058\n",
       "114688  162.00   132.389129\n",
       "37563    56.70    81.709320\n",
       "36185    81.00    74.513946\n",
       "100680  192.59   176.600921\n",
       "91434   141.00   112.478578"
      ]
     },
     "execution_count": 112,
     "metadata": {},
     "output_type": "execute_result"
    }
   ],
   "source": [
    "y_test1=y_test.to_frame()\n",
    "y_test1['Predictions']=predictions\n",
    "y_test1.head(20)"
   ]
  },
  {
   "cell_type": "code",
   "execution_count": 113,
   "metadata": {},
   "outputs": [
    {
     "data": {
      "text/plain": [
       "<seaborn.axisgrid.FacetGrid at 0x1de9ba90dc0>"
      ]
     },
     "execution_count": 113,
     "metadata": {},
     "output_type": "execute_result"
    },
    {
     "data": {
      "image/png": "[encoded data removed]",
      "text/plain": [
       "<Figure size 360x360 with 1 Axes>"
      ]
     },
     "metadata": {
      "needs_background": "light"
     },
     "output_type": "display_data"
    }
   ],
   "source": [
    "sns.displot((y_test-predictions),bins=30)"
   ]
  },
  {
   "cell_type": "code",
   "execution_count": null,
   "metadata": {},
   "outputs": [],
   "source": []
  }
 ],
 "metadata": {
  "interpreter": {
   "hash": "ea928f5d67c4c93314bde902f9925b00b35f33a7a7fd46f2f8b2a0108e4de065"
  },
  "kernelspec": {
   "display_name": "Python 3.10.2 64-bit",
   "language": "python",
   "name": "python3"
  },
  "language_info": {
   "codemirror_mode": {
    "name": "ipython",
    "version": 3
   },
   "file_extension": ".py",
   "mimetype": "text/x-python",
   "name": "python",
   "nbconvert_exporter": "python",
   "pygments_lexer": "ipython3",
   "version": "3.10.2"
  },
  "orig_nbformat": 4
 },
 "nbformat": 4,
 "nbformat_minor": 2
}
