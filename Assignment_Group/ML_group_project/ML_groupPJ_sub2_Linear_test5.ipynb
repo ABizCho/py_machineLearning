{
 "cells": [
  {
   "cell_type": "code",
   "execution_count": null,
   "metadata": {},
   "outputs": [],
   "source": [
    "import pandas as pd\n",
    "import numpy as np\n",
    "import matplotlib.pyplot as plt\n",
    "import seaborn as sns\n",
    "\n",
    "''''''\n",
    "df_ht = pd.read_csv('Assignment_Group\\ML_group_project\\hotel_bookings.csv')\n",
    "\n",
    "''''''\n",
    "# df_ht_lr = df_ht.drop(['arrival_date_year','arrival_date_month','arrival_date_week_number','arrival_date_day_of_month','agent','company','reservation_status_date','reservation_status'], axis = 1)\n",
    "df_ht_lr = df_ht.copy()\n",
    "\n",
    "''''''\n",
    "df_ht_lr = df_ht_lr.dropna()\n",
    "\n",
    "\n",
    "''''''\n",
    "df_ht_lr.info()"
   ]
  }
 ],
 "metadata": {
  "language_info": {
   "name": "python"
  },
  "orig_nbformat": 4
 },
 "nbformat": 4,
 "nbformat_minor": 2
}
