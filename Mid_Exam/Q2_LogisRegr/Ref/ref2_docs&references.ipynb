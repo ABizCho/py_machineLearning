{
 "cells": [
  {
   "cell_type": "markdown",
   "metadata": {},
   "source": [
    "# This Document contains References and Tutorials"
   ]
  },
  {
   "cell_type": "code",
   "execution_count": null,
   "metadata": {
    "collapsed": true
   },
   "outputs": [],
   "source": [
    "# df.rename(columns={'housing':'housing_loan',\n",
    "#                    'loan':'personal_loan',\n",
    "#                    'contact':'contact_type',\n",
    "#                    'month':'last_contact_month',\n",
    "#                    'day_of_week':'last_contact_day',\n",
    "#                    'duration':'duration_of_last_call'\n",
    "#                    ,'previous':'contact_before_campaign'\n",
    "#                    ,'nremployed':'number_employed',\n",
    "#                    'y':'willRespond'},inplace=True)\n"
   ]
  },
  {
   "cell_type": "code",
   "execution_count": 1,
   "metadata": {
    "collapsed": true
   },
   "outputs": [],
   "source": [
    "#for i in df['pdays']:\n",
    "#    if df['pdays'][i]==999.0:\n",
    "#        df['pdays'][i]=np.nan\n",
    "#    else:\n",
    "#        print 'Nope'"
   ]
  },
  {
   "cell_type": "code",
   "execution_count": 2,
   "metadata": {
    "collapsed": true
   },
   "outputs": [],
   "source": [
    "#for i in df['pdays']: This is the wrong way to do it. Strongly discourage using this method\n",
    "        #df['pdays'][i]=np.nan\n",
    "        #i=i+1\n",
    "        #df.apply()\n",
    "#def munging(i):\n",
    "    #if df['pdays'][i]==999.0:  dfmi.loc[:,('one','second')] or if df.loc[:,('pdays','i')].any()==999.0:\n",
    "        #df['pdays'][i]=np.nan  Not the right way to do it.  \n",
    "        #Use either of the above methods. This one just takes ['pdays'] and [i] as two seperate instance.\n",
    "        #Therefore it creates a copy vs an indexing view"
   ]
  },
  {
   "cell_type": "markdown",
   "metadata": {},
   "source": [
    "## Plotting "
   ]
  },
  {
   "cell_type": "code",
   "execution_count": 4,
   "metadata": {
    "collapsed": true
   },
   "outputs": [],
   "source": [
    "##plt.scatter(df.nr_employed,df.age)\n",
    "##plt.hist(df.age)\n",
    "##df['age'].describe()\n",
    "#plt.figure()\n",
    "##plt.boxplot(df['age'])\n",
    "##plt.xticks(label,df.education)"
   ]
  },
  {
   "cell_type": "code",
   "execution_count": 5,
   "metadata": {
    "collapsed": true
   },
   "outputs": [],
   "source": [
    "#import matplotlib.pyplot as plt\n",
    "# import numpy as np\n",
    "\n",
    "# x = np.array([0,1,2,3])\n",
    "# y = np.array([20,21,22,23])\n",
    "# my_xticks = ['John','Arnold','Mavis','Matt']\n",
    "# plt.xticks(x, my_xticks)\n",
    "# plt.plot(x, y)\n",
    "# plt.show()\n",
    "\n",
    "# import pylab as pl\n",
    "# x = [0,1]\n",
    "# xTicks = ['LONDON','PARIS']\n",
    "# y = [2.39, 3.41]\n",
    "# pl.xticks(x, xTicks)\n",
    "# pl.xticks(range(2), xTicks, rotation=45) #writes strings with 45 degree angle\n",
    "# pl.plot(x,y,'*')\n",
    "# pl.show()\n"
   ]
  },
  {
   "cell_type": "markdown",
   "metadata": {},
   "source": [
    "## Cross Validation and Splitting"
   ]
  },
  {
   "cell_type": "code",
   "execution_count": 8,
   "metadata": {
    "collapsed": true
   },
   "outputs": [],
   "source": [
    "# import pandas as pd\n",
    "# import numpy as np\n",
    "# from sklearn.cross_validation import train_test_split\n",
    "\n",
    "# train, test = train_test_split(df, test_size = 0.2)\n",
    "\n",
    "#giraffe_reviews = products[products['name'] == 'Vulli Sophie the Giraffe Teether']\n",
    "#products['sentiment'] = products['rating'] >=4\n",
    "#train_data,test_data = products.random_split(.8, seed=0)\n",
    "#sentiment_model = graphlab.logistic_classifier.create(train_data,\n",
    "            #                                         target='sentiment',\n",
    "             #                                        features=['word_count'],\n",
    "              #                                       validation_set=test_data)\n",
    "\n",
    "#sentiment_model.evaluate(test_data, metric='roc_curve')\n",
    "#sentiment_model.show(view='Evaluation')\n",
    "#giraffe_reviews['predicted_sentiment'] = sentiment_model.predict(giraffe_reviews, output_type='probability')\n",
    "\n",
    "#sqft_model = graphlab.linear_regression.create(train_data, target='price', features=['sqft_living'],validation_set=None)\n",
    "#print sqft_model.predict(house1)\n",
    "\n",
    "#X_train, X_test, y_train, y_test = train_test_split(X, y, test_size=0.33, random_state=42)"
   ]
  },
  {
   "cell_type": "markdown",
   "metadata": {},
   "source": [
    "## Random Forest"
   ]
  },
  {
   "cell_type": "code",
   "execution_count": 10,
   "metadata": {
    "collapsed": true
   },
   "outputs": [],
   "source": [
    "#alg6 = RandomForestRegressor(n_estimators=400,max_depth=6, min_samples_leaf=100,n_jobs=4)\n",
    "#modelfit(alg6, train, test, predictors, target, IDcol, 'alg6.csv')\n",
    "# target = 'Item_Outlet_Sales'\n",
    "# IDcol = ['Item_Identifier','Outlet_Identifier']\n",
    "# from sklearn import cross_validation, metrics\n",
    "# def modelfit(alg, dtrain, dtest, predictors, target, IDcol, filename):\n",
    "#     #Fit the algorithm on the data\n",
    "#     alg.fit(dtrain[predictors], dtrain[target])\n",
    "        \n",
    "#     #Predict training set:\n",
    "#     dtrain_predictions = alg.predict(dtrain[predictors])\n",
    "\n",
    "#     #Perform cross-validation:\n",
    "#     cv_score = cross_validation.cross_val_score(alg, dtrain[predictors], dtrain[target], cv=20, scoring='mean_squared_error')\n",
    "#     cv_score = np.sqrt(np.abs(cv_score))\n",
    "    \n",
    "#     #Print model report:\n",
    "#     print \"\\nModel Report\"\n",
    "#     print \"RMSE : %.4g\" % np.sqrt(metrics.mean_squared_error(dtrain[target].values, dtrain_predictions))\n",
    "#     print \"CV Score : Mean - %.4g | Std - %.4g | Min - %.4g | Max - %.4g\" % (np.mean(cv_score),np.std(cv_score),\n",
    "                                                                                #np.min(cv_score),np.max(cv_score))\n",
    "    \n",
    "#     #Predict on testing data:\n",
    "#     dtest[target] = alg.predict(dtest[predictors])"
   ]
  }
 ],
 "metadata": {
  "kernelspec": {
   "display_name": "Python 2",
   "language": "python",
   "name": "python2"
  },
  "language_info": {
   "codemirror_mode": {
    "name": "ipython",
    "version": 2
   },
   "file_extension": ".py",
   "mimetype": "text/x-python",
   "name": "python",
   "nbconvert_exporter": "python",
   "pygments_lexer": "ipython2",
   "version": "2.7.11"
  }
 },
 "nbformat": 4,
 "nbformat_minor": 0
}
